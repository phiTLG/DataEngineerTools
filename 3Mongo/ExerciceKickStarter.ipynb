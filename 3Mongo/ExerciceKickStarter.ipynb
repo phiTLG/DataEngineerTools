{
 "cells": [
  {
   "cell_type": "markdown",
   "metadata": {},
   "source": [
    "#  Consignes\n",
    "\n",
    "## Description\n",
    "\n",
    "Ouvrir le fichier ks-projects-201801.csv, il recense environ 100 000 projets KickStarter. Intégrer les données directement avec L'API Python dans une base de données Mongo. \n",
    "\n",
    "Il conviendra de bien spécifier manuellement l'ID du document. Pensez aussi à bien formatter le type des données pour profiter des méthodes implémentées par Mongo. L'ensemble de données n'est pas forcément nécessaire, c'est à vous de créer votre modèle de données.\n",
    "\n",
    "## Questions\n",
    "\n",
    "- 1) Récupérer les 5 projets ayant reçu le plus de promesse de dons.\n",
    "- 2) Compter le nombre de projets ayant atteint leur but.\n",
    "- 3) Compter le nombre de projets pour chaque catégorie.\n",
    "- 4) Compter le nombre de projets français ayant été instanciés avant 2016.\n",
    "- 5) Récupérer les projets américains ayant demandé plus de 200 000 dollars.\n",
    "- 6) Compter le nombre de projet ayant \"Sport\" dans leur nom"
   ]
  },
  {
   "cell_type": "code",
   "execution_count": 74,
   "metadata": {},
   "outputs": [],
   "source": [
    "import pandas as pd\n",
    "import pymongo\n",
    "from pymongo import MongoClient"
   ]
  },
  {
   "cell_type": "code",
   "execution_count": 75,
   "metadata": {},
   "outputs": [],
   "source": [
    "client = MongoClient('mongodb://mongo:27017/')\n",
    "database = client['exercices']\n",
    "collection = database['kickstarter']"
   ]
  },
  {
   "cell_type": "code",
   "execution_count": 76,
   "metadata": {},
   "outputs": [
    {
     "name": "stderr",
     "output_type": "stream",
     "text": [
      "/root/.local/share/virtualenvs/code-AFz48Hjb/lib/python3.8/site-packages/IPython/core/interactiveshell.py:3146: DtypeWarning: Columns (6,8,10,12) have mixed types.Specify dtype option on import or set low_memory=False.\n",
      "  has_raised = await self.run_ast_nodes(code_ast.body, cell_name,\n"
     ]
    },
    {
     "data": {
      "text/html": [
       "<div>\n",
       "<style scoped>\n",
       "    .dataframe tbody tr th:only-of-type {\n",
       "        vertical-align: middle;\n",
       "    }\n",
       "\n",
       "    .dataframe tbody tr th {\n",
       "        vertical-align: top;\n",
       "    }\n",
       "\n",
       "    .dataframe thead th {\n",
       "        text-align: right;\n",
       "    }\n",
       "</style>\n",
       "<table border=\"1\" class=\"dataframe\">\n",
       "  <thead>\n",
       "    <tr style=\"text-align: right;\">\n",
       "      <th></th>\n",
       "      <th>ID</th>\n",
       "      <th>name</th>\n",
       "      <th>category</th>\n",
       "      <th>main_category</th>\n",
       "      <th>currency</th>\n",
       "      <th>deadline</th>\n",
       "      <th>goal</th>\n",
       "      <th>launched</th>\n",
       "      <th>pledged</th>\n",
       "      <th>state</th>\n",
       "      <th>backers</th>\n",
       "      <th>country</th>\n",
       "      <th>usd pledged</th>\n",
       "      <th>usd_pledged_real</th>\n",
       "    </tr>\n",
       "  </thead>\n",
       "  <tbody>\n",
       "    <tr>\n",
       "      <th>0</th>\n",
       "      <td>872782264</td>\n",
       "      <td>Scott Cooper's Solo CD \"A Leg Trick\" (Canceled)</td>\n",
       "      <td>Rock</td>\n",
       "      <td>Music</td>\n",
       "      <td>USD</td>\n",
       "      <td>2011-09-16</td>\n",
       "      <td>2000</td>\n",
       "      <td>2011-08-17 06:31:31</td>\n",
       "      <td>1145</td>\n",
       "      <td>canceled</td>\n",
       "      <td>24</td>\n",
       "      <td>US</td>\n",
       "      <td>1145</td>\n",
       "      <td>1145.000000</td>\n",
       "    </tr>\n",
       "    <tr>\n",
       "      <th>1</th>\n",
       "      <td>1326492673</td>\n",
       "      <td>Ohceola jewelry</td>\n",
       "      <td>Fashion</td>\n",
       "      <td>Fashion</td>\n",
       "      <td>USD</td>\n",
       "      <td>2012-08-22</td>\n",
       "      <td>18000</td>\n",
       "      <td>2012-07-23 20:46:48</td>\n",
       "      <td>1851</td>\n",
       "      <td>failed</td>\n",
       "      <td>28</td>\n",
       "      <td>US</td>\n",
       "      <td>1851</td>\n",
       "      <td>1851.000000</td>\n",
       "    </tr>\n",
       "    <tr>\n",
       "      <th>2</th>\n",
       "      <td>1688410639</td>\n",
       "      <td>Sluff Off &amp; Harald: Two latest EGGs are Classi...</td>\n",
       "      <td>Tabletop Games</td>\n",
       "      <td>Games</td>\n",
       "      <td>USD</td>\n",
       "      <td>2016-07-19</td>\n",
       "      <td>2000</td>\n",
       "      <td>2016-07-01 21:55:54</td>\n",
       "      <td>7534</td>\n",
       "      <td>successful</td>\n",
       "      <td>254</td>\n",
       "      <td>US</td>\n",
       "      <td>3796</td>\n",
       "      <td>7534.000000</td>\n",
       "    </tr>\n",
       "    <tr>\n",
       "      <th>3</th>\n",
       "      <td>156812982</td>\n",
       "      <td>SketchPlanner: Create and Plan- all in one bea...</td>\n",
       "      <td>Art Books</td>\n",
       "      <td>Publishing</td>\n",
       "      <td>USD</td>\n",
       "      <td>2017-09-27</td>\n",
       "      <td>13000</td>\n",
       "      <td>2017-08-28 15:47:02</td>\n",
       "      <td>16298</td>\n",
       "      <td>successful</td>\n",
       "      <td>367</td>\n",
       "      <td>US</td>\n",
       "      <td>2670</td>\n",
       "      <td>16298.000000</td>\n",
       "    </tr>\n",
       "    <tr>\n",
       "      <th>4</th>\n",
       "      <td>1835968190</td>\n",
       "      <td>Proven sales with custom motorcycle accessories</td>\n",
       "      <td>Sculpture</td>\n",
       "      <td>Art</td>\n",
       "      <td>CAD</td>\n",
       "      <td>2016-02-24</td>\n",
       "      <td>5000</td>\n",
       "      <td>2016-01-25 17:37:10</td>\n",
       "      <td>1</td>\n",
       "      <td>failed</td>\n",
       "      <td>1</td>\n",
       "      <td>CA</td>\n",
       "      <td>0.708148</td>\n",
       "      <td>0.738225</td>\n",
       "    </tr>\n",
       "  </tbody>\n",
       "</table>\n",
       "</div>"
      ],
      "text/plain": [
       "           ID                                               name  \\\n",
       "0   872782264    Scott Cooper's Solo CD \"A Leg Trick\" (Canceled)   \n",
       "1  1326492673                                    Ohceola jewelry   \n",
       "2  1688410639  Sluff Off & Harald: Two latest EGGs are Classi...   \n",
       "3   156812982  SketchPlanner: Create and Plan- all in one bea...   \n",
       "4  1835968190    Proven sales with custom motorcycle accessories   \n",
       "\n",
       "         category main_category currency    deadline   goal  \\\n",
       "0            Rock         Music      USD  2011-09-16   2000   \n",
       "1         Fashion       Fashion      USD  2012-08-22  18000   \n",
       "2  Tabletop Games         Games      USD  2016-07-19   2000   \n",
       "3       Art Books    Publishing      USD  2017-09-27  13000   \n",
       "4       Sculpture           Art      CAD  2016-02-24   5000   \n",
       "\n",
       "              launched pledged       state backers country usd pledged  \\\n",
       "0  2011-08-17 06:31:31    1145    canceled      24      US        1145   \n",
       "1  2012-07-23 20:46:48    1851      failed      28      US        1851   \n",
       "2  2016-07-01 21:55:54    7534  successful     254      US        3796   \n",
       "3  2017-08-28 15:47:02   16298  successful     367      US        2670   \n",
       "4  2016-01-25 17:37:10       1      failed       1      CA    0.708148   \n",
       "\n",
       "   usd_pledged_real  \n",
       "0       1145.000000  \n",
       "1       1851.000000  \n",
       "2       7534.000000  \n",
       "3      16298.000000  \n",
       "4          0.738225  "
      ]
     },
     "execution_count": 76,
     "metadata": {},
     "output_type": "execute_result"
    }
   ],
   "source": [
    "df_ks = pd.read_csv(\"./data/ks-projects-201801-sample.csv\")\n",
    "df_ks.head()"
   ]
  },
  {
   "cell_type": "markdown",
   "metadata": {},
   "source": [
    "Ce warning intervient lorsque pandas n'arrive pas à inférer le type de données. Il est sympa il précise les colones 6,8,10,12. "
   ]
  },
  {
   "cell_type": "code",
   "execution_count": 77,
   "metadata": {},
   "outputs": [
    {
     "data": {
      "text/plain": [
       "Index(['goal', 'pledged', 'backers', 'usd pledged'], dtype='object')"
      ]
     },
     "execution_count": 77,
     "metadata": {},
     "output_type": "execute_result"
    }
   ],
   "source": [
    "df_ks.columns[[6,8,10,12]]"
   ]
  },
  {
   "cell_type": "markdown",
   "metadata": {},
   "source": [
    "## Question 0"
   ]
  },
  {
   "cell_type": "markdown",
   "metadata": {},
   "source": [
    "### Netoyer les données"
   ]
  },
  {
   "cell_type": "code",
   "execution_count": 78,
   "metadata": {},
   "outputs": [],
   "source": [
    "df_ks = df_ks.dropna()"
   ]
  },
  {
   "cell_type": "markdown",
   "metadata": {
    "slideshow": {
     "slide_type": "slide"
    }
   },
   "source": [
    "### Importer les données"
   ]
  },
  {
   "cell_type": "code",
   "execution_count": 79,
   "metadata": {},
   "outputs": [
    {
     "name": "stdout",
     "output_type": "stream",
     "text": [
      "<class 'pymongo.database.Database'>\n"
     ]
    }
   ],
   "source": [
    "db = client.df\n",
    "print(type(db))"
   ]
  },
  {
   "cell_type": "code",
   "execution_count": 83,
   "metadata": {},
   "outputs": [
    {
     "data": {
      "text/plain": [
       "<pymongo.results.InsertManyResult at 0x7f37a9719440>"
      ]
     },
     "execution_count": 83,
     "metadata": {},
     "output_type": "execute_result"
    }
   ],
   "source": [
    "#collection = db['kickstarter']\n",
    "collection.delete_many({})\n",
    "collection.insert_many(df_ks.to_dict('records'))"
   ]
  },
  {
   "cell_type": "code",
   "execution_count": 84,
   "metadata": {},
   "outputs": [
    {
     "data": {
      "text/plain": [
       "{'_id': ObjectId('5fbbbb60cb2bdb84d9c607c5'),\n",
       " 'ID': 872782264,\n",
       " 'name': 'Scott Cooper\\'s Solo CD \"A Leg Trick\" (Canceled)',\n",
       " 'category': 'Rock',\n",
       " 'main_category': 'Music',\n",
       " 'currency': 'USD',\n",
       " 'deadline': '2011-09-16',\n",
       " 'goal': 2000.0,\n",
       " 'launched': '2011-08-17 06:31:31',\n",
       " 'pledged': 1145.0,\n",
       " 'state': 'canceled',\n",
       " 'backers': 24,\n",
       " 'country': 'US',\n",
       " 'usd pledged': 1145.0,\n",
       " 'usd_pledged_real': 1145.0}"
      ]
     },
     "execution_count": 84,
     "metadata": {},
     "output_type": "execute_result"
    }
   ],
   "source": [
    "collection.find_one()"
   ]
  },
  {
   "cell_type": "markdown",
   "metadata": {},
   "source": [
    "## Question 1  "
   ]
  },
  {
   "cell_type": "code",
   "execution_count": 86,
   "metadata": {},
   "outputs": [
    {
     "data": {
      "text/plain": [
       "[{'_id': ObjectId('5fbbbb61cb2bdb84d9c72fe3'),\n",
       "  'ID': 342886736,\n",
       "  'name': \"COOLEST COOLER: 21st Century Cooler that's Actually Cooler\",\n",
       "  'category': 'Product Design',\n",
       "  'main_category': 'Design',\n",
       "  'currency': 'USD',\n",
       "  'deadline': '2014-08-30',\n",
       "  'goal': '50000.0',\n",
       "  'launched': '2014-07-08 10:14:37',\n",
       "  'pledged': '13285226.36',\n",
       "  'state': 'successful',\n",
       "  'backers': '62642',\n",
       "  'country': 'US',\n",
       "  'usd pledged': '13285226.36',\n",
       "  'usd_pledged_real': 13285226.36},\n",
       " {'_id': ObjectId('5fbbbb61cb2bdb84d9c78a0d'),\n",
       "  'ID': 2103598555,\n",
       "  'name': 'Pebble 2, Time 2 + All-New Pebble Core',\n",
       "  'category': 'Product Design',\n",
       "  'main_category': 'Design',\n",
       "  'currency': 'USD',\n",
       "  'deadline': '2016-06-30',\n",
       "  'goal': '1000000.0',\n",
       "  'launched': '2016-05-24 15:49:52',\n",
       "  'pledged': '12779843.49',\n",
       "  'state': 'successful',\n",
       "  'backers': '66673',\n",
       "  'country': 'US',\n",
       "  'usd pledged': '12779843.49',\n",
       "  'usd_pledged_real': 12779843.49},\n",
       " {'_id': ObjectId('5fbbbb61cb2bdb84d9c7bea4'),\n",
       "  'ID': 1033978702,\n",
       "  'name': 'OUYA: A New Kind of Video Game Console',\n",
       "  'category': 'Gaming Hardware',\n",
       "  'main_category': 'Games',\n",
       "  'currency': 'USD',\n",
       "  'deadline': '2012-08-09',\n",
       "  'goal': '950000.0',\n",
       "  'launched': '2012-07-10 14:44:41',\n",
       "  'pledged': '8596474.58',\n",
       "  'state': 'successful',\n",
       "  'backers': '63416',\n",
       "  'country': 'US',\n",
       "  'usd pledged': '8596474.58',\n",
       "  'usd_pledged_real': 8596474.58},\n",
       " {'_id': ObjectId('5fbbbb61cb2bdb84d9c83526'),\n",
       "  'ID': 450099426,\n",
       "  'name': 'The Everyday Backpack, Tote, and Sling',\n",
       "  'category': 'Product Design',\n",
       "  'main_category': 'Design',\n",
       "  'currency': 'USD',\n",
       "  'deadline': '2016-09-10',\n",
       "  'goal': 500000.0,\n",
       "  'launched': '2016-07-13 00:47:35',\n",
       "  'pledged': 6565782.5,\n",
       "  'state': 'successful',\n",
       "  'backers': 26359,\n",
       "  'country': 'US',\n",
       "  'usd pledged': 1462611.0,\n",
       "  'usd_pledged_real': 6565782.5},\n",
       " {'_id': ObjectId('5fbbbb61cb2bdb84d9c7bdd9'),\n",
       "  'ID': 1386523707,\n",
       "  'name': 'Fidget Cube: A Vinyl Desk Toy',\n",
       "  'category': 'Product Design',\n",
       "  'main_category': 'Design',\n",
       "  'currency': 'USD',\n",
       "  'deadline': '2016-10-20',\n",
       "  'goal': '15000.0',\n",
       "  'launched': '2016-08-30 22:02:09',\n",
       "  'pledged': '6465690.3',\n",
       "  'state': 'successful',\n",
       "  'backers': '154926',\n",
       "  'country': 'US',\n",
       "  'usd pledged': '13770.0',\n",
       "  'usd_pledged_real': 6465690.3}]"
      ]
     },
     "execution_count": 86,
     "metadata": {},
     "output_type": "execute_result"
    }
   ],
   "source": [
    "cur = collection.find().sort([(\"usd_pledged_real\", -1)]).limit(5)\n",
    "list(cur)"
   ]
  },
  {
   "cell_type": "markdown",
   "metadata": {},
   "source": [
    "## Question 2"
   ]
  },
  {
   "cell_type": "code",
   "execution_count": 91,
   "metadata": {},
   "outputs": [
    {
     "name": "stdout",
     "output_type": "stream",
     "text": [
      "52997\n"
     ]
    }
   ],
   "source": [
    "cur = collection.find({\"state\":\"successful\"})\n",
    "next(cur)\n",
    "print(len(list(cur)))"
   ]
  },
  {
   "cell_type": "markdown",
   "metadata": {},
   "source": [
    "## Question 3"
   ]
  },
  {
   "cell_type": "code",
   "execution_count": 99,
   "metadata": {},
   "outputs": [
    {
     "data": {
      "text/plain": [
       "[{'_id': 'Plays', 'sum': 539},\n",
       " {'_id': 'Classical Music', 'sum': 1064},\n",
       " {'_id': 'Accessories', 'sum': 1203},\n",
       " {'_id': 'Product Design', 'sum': 8885},\n",
       " {'_id': 'Hardware', 'sum': 1430},\n",
       " {'_id': 'Apps', 'sum': 2535},\n",
       " {'_id': 'Fashion', 'sum': 3379},\n",
       " {'_id': 'Experimental', 'sum': 357},\n",
       " {'_id': 'Indie Rock', 'sum': 2192},\n",
       " {'_id': 'Video', 'sum': 147},\n",
       " {'_id': 'Events', 'sum': 321},\n",
       " {'_id': 'Webcomics', 'sum': 259},\n",
       " {'_id': 'Literary Journals', 'sum': 118},\n",
       " {'_id': 'Art Books', 'sum': 1065},\n",
       " {'_id': 'Faith', 'sum': 439},\n",
       " {'_id': 'Musical', 'sum': 367},\n",
       " {'_id': 'Apparel', 'sum': 2827},\n",
       " {'_id': 'People', 'sum': 440},\n",
       " {'_id': 'Pop', 'sum': 1302},\n",
       " {'_id': 'Art', 'sum': 3358},\n",
       " {'_id': 'Music', 'sum': 5293},\n",
       " {'_id': 'Ready-to-wear', 'sum': 332},\n",
       " {'_id': 'Drama', 'sum': 871},\n",
       " {'_id': 'R&B', 'sum': 172},\n",
       " {'_id': 'Candles', 'sum': 168},\n",
       " {'_id': 'Romance', 'sum': 74},\n",
       " {'_id': 'Young Adult', 'sum': 328},\n",
       " {'_id': 'Nonfiction', 'sum': 3390},\n",
       " {'_id': 'Web', 'sum': 2017},\n",
       " {'_id': 'Digital Art', 'sum': 524},\n",
       " {'_id': 'Grace is Leaving', 'sum': 1},\n",
       " {'_id': 'Workshops', 'sum': 59},\n",
       " {'_id': 'Blues', 'sum': 113},\n",
       " {'_id': 'Television', 'sum': 401},\n",
       " {'_id': 'Hip-Hop', 'sum': 1555},\n",
       " {'_id': 'Jewelry', 'sum': 472},\n",
       " {'_id': 'Bacon', 'sum': 78},\n",
       " {'_id': 'Printing', 'sum': 83},\n",
       " {'_id': '3D Printing', 'sum': 271},\n",
       " {'_id': 'Installations', 'sum': 178},\n",
       " {'_id': 'Narrative Film', 'sum': 2097},\n",
       " {'_id': 'Horror', 'sum': 525},\n",
       " {'_id': 'Food Trucks', 'sum': 687},\n",
       " {'_id': 'Crafts', 'sum': 1834},\n",
       " {'_id': 'Games', 'sum': 1331},\n",
       " {'_id': 'Quilts', 'sum': 32},\n",
       " {'_id': 'Sculpture', 'sum': 737},\n",
       " {'_id': 'Childrenswear', 'sum': 192},\n",
       " {'_id': 'Publishing', 'sum': 2147},\n",
       " {'_id': 'DIY Electronics', 'sum': 358},\n",
       " {'_id': 'Robots', 'sum': 237},\n",
       " {'_id': 'Glass', 'sum': 51},\n",
       " {'_id': 'Documentary', 'sum': 6497},\n",
       " {'_id': 'Comic Books', 'sum': 1032},\n",
       " {'_id': 'Cookbooks', 'sum': 217},\n",
       " {'_id': 'Photo', 'sum': 58},\n",
       " {'_id': 'Jazz', 'sum': 733},\n",
       " {'_id': 'Ceramics', 'sum': 128},\n",
       " {'_id': 'Makerspaces', 'sum': 91},\n",
       " {'_id': 'Movie Theaters', 'sum': 90},\n",
       " {'_id': 'Taxidermy', 'sum': 7},\n",
       " {'_id': 'Webseries', 'sum': 2316},\n",
       " {'_id': 'Animation', 'sum': 1017},\n",
       " {'_id': 'Metal', 'sum': 274},\n",
       " {'_id': 'Puzzles', 'sum': 95},\n",
       " {'_id': 'Camera Equipment', 'sum': 165},\n",
       " {'_id': 'Rock', 'sum': 2707},\n",
       " {'_id': 'Journalism', 'sum': 672},\n",
       " {'_id': 'Dance', 'sum': 900},\n",
       " {'_id': 'Immersive', 'sum': 131},\n",
       " {'_id': 'Gadgets', 'sum': 1210},\n",
       " {'_id': 'Fine Art', 'sum': 290},\n",
       " {'_id': 'Places', 'sum': 283},\n",
       " {'_id': 'Wearables', 'sum': 508},\n",
       " {'_id': 'Video Art', 'sum': 65},\n",
       " {'_id': 'Stationery', 'sum': 90},\n",
       " {'_id': 'Illustration', 'sum': 1263},\n",
       " {'_id': 'Video Games', 'sum': 4797},\n",
       " {'_id': 'Performance Art', 'sum': 855},\n",
       " {'_id': 'Technology', 'sum': 2689},\n",
       " {'_id': 'Chiptune', 'sum': 10},\n",
       " {'_id': 'Live Games', 'sum': 394},\n",
       " {'_id': 'Typography', 'sum': 44},\n",
       " {'_id': 'DIY', 'sum': 480},\n",
       " {'_id': \"Children's Books\", 'sum': 2686},\n",
       " {'_id': 'Action', 'sum': 282},\n",
       " {'_id': 'Space Exploration', 'sum': 137},\n",
       " {'_id': 'Interactive Design', 'sum': 146},\n",
       " {'_id': 'Letterpress', 'sum': 24},\n",
       " {'_id': 'Zines', 'sum': 144},\n",
       " {'_id': 'Calendars', 'sum': 112},\n",
       " {'_id': 'Weaving', 'sum': 38},\n",
       " {'_id': 'Family', 'sum': 130},\n",
       " {'_id': 'Theater', 'sum': 2786},\n",
       " {'_id': 'Woodworking', 'sum': 433},\n",
       " {'_id': 'Mobile Games', 'sum': 650},\n",
       " {'_id': 'Civic Design', 'sum': 130},\n",
       " {'_id': 'Fantasy', 'sum': 132},\n",
       " {'_id': 'Nature', 'sum': 219},\n",
       " {'_id': 'Drinks', 'sum': 995},\n",
       " {'_id': 'Graphic Novels', 'sum': 702},\n",
       " {'_id': 'Audio', 'sum': 164},\n",
       " {'_id': 'Poetry', 'sum': 532},\n",
       " {'_id': 'Performances', 'sum': 414},\n",
       " {'_id': 'Flight', 'sum': 158},\n",
       " {'_id': 'Thrillers', 'sum': 302},\n",
       " {'_id': 'Academic', 'sum': 367},\n",
       " {'_id': 'Photography', 'sum': 2239},\n",
       " {'_id': 'Knitting', 'sum': 78},\n",
       " {'_id': 'Literary Spaces', 'sum': 10},\n",
       " {'_id': 'Translations', 'sum': 76},\n",
       " {'_id': 'Sound', 'sum': 255},\n",
       " {'_id': 'Fabrication Tools', 'sum': 96},\n",
       " {'_id': 'Food', 'sum': 4612},\n",
       " {'_id': 'Residencies', 'sum': 32},\n",
       " {'_id': 'Restaurants', 'sum': 1088},\n",
       " {'_id': 'Country & Folk', 'sum': 1790},\n",
       " {'_id': 'Playing Cards', 'sum': 963},\n",
       " {'_id': 'Pottery', 'sum': 40},\n",
       " {'_id': 'Anthologies', 'sum': 300},\n",
       " {'_id': 'Photobooks', 'sum': 608},\n",
       " {'_id': 'Music Videos', 'sum': 299},\n",
       " {'_id': 'Graphic Design', 'sum': 765},\n",
       " {'_id': 'Shorts', 'sum': 4857},\n",
       " {'_id': 'Community Gardens', 'sum': 115},\n",
       " {'_id': 'Punk', 'sum': 127},\n",
       " {'_id': 'Latin', 'sum': 63},\n",
       " {'_id': 'Design', 'sum': 1641},\n",
       " {'_id': 'Film & Video', 'sum': 3657},\n",
       " {'_id': 'Software', 'sum': 1193},\n",
       " {'_id': 'Print', 'sum': 287},\n",
       " {'_id': 'Electronic Music', 'sum': 858},\n",
       " {'_id': 'Gaming Hardware', 'sum': 178},\n",
       " {'_id': 'Vegan', 'sum': 229},\n",
       " {'_id': 'Architecture', 'sum': 300},\n",
       " {'_id': 'Science Fiction', 'sum': 274},\n",
       " {'_id': 'Public Art', 'sum': 1248},\n",
       " {'_id': 'Painting', 'sum': 1288},\n",
       " {'_id': 'Fiction', 'sum': 3703},\n",
       " {'_id': 'Comedy', 'sum': 923},\n",
       " {'_id': 'Spaces', 'sum': 331},\n",
       " {'_id': 'Comics', 'sum': 1931},\n",
       " {'_id': 'Mixed Media', 'sum': 1118},\n",
       " {'_id': 'Farms', 'sum': 482},\n",
       " {'_id': 'Animals', 'sum': 97},\n",
       " {'_id': 'Periodicals', 'sum': 517},\n",
       " {'_id': 'Small Batch', 'sum': 701},\n",
       " {'_id': 'Footwear', 'sum': 379},\n",
       " {'_id': \"Farmer's Markets\", 'sum': 175},\n",
       " {'_id': 'Embroidery', 'sum': 49},\n",
       " {'_id': 'Pet Fashion', 'sum': 51},\n",
       " {'_id': 'Crochet', 'sum': 61},\n",
       " {'_id': 'World Music', 'sum': 850},\n",
       " {'_id': 'Couture', 'sum': 108},\n",
       " {'_id': 'Kids', 'sum': 109},\n",
       " {'_id': 'Festivals', 'sum': 313},\n",
       " {'_id': 'Tabletop Games', 'sum': 5579},\n",
       " {'_id': 'Conceptual Art', 'sum': 393},\n",
       " {'_id': 'Radio & Podcasts', 'sum': 349},\n",
       " {'_id': 'Textiles', 'sum': 105}]"
      ]
     },
     "execution_count": 99,
     "metadata": {},
     "output_type": "execute_result"
    }
   ],
   "source": [
    "cur = collection.aggregate([{\"$group\" : {\"_id\" : \"$category\", \"sum\" : {\"$sum\" : 1}}}])\n",
    "list(cur)"
   ]
  },
  {
   "cell_type": "markdown",
   "metadata": {},
   "source": [
    "## Question 4"
   ]
  },
  {
   "cell_type": "code",
   "execution_count": 106,
   "metadata": {},
   "outputs": [
    {
     "name": "stdout",
     "output_type": "stream",
     "text": [
      "330\n"
     ]
    }
   ],
   "source": [
    "cur = collection.find({\"$and\":[{\"launched\":{\"$lt\":\"2016-01-01 00:00:00\"}}, {\"country\":\"FR\"}]})\n",
    "print(len(list(cur)))"
   ]
  },
  {
   "cell_type": "markdown",
   "metadata": {},
   "source": [
    "## Question 5"
   ]
  },
  {
   "cell_type": "code",
   "execution_count": 112,
   "metadata": {},
   "outputs": [
    {
     "name": "stdout",
     "output_type": "stream",
     "text": [
      "1025\n"
     ]
    }
   ],
   "source": [
    "cur = collection.find({\"$and\":[{\"goal\":{\"$gt\":200000}}, {\"country\":\"US\"}]})\n",
    "next(cur)\n",
    "print(len(list(cur)))"
   ]
  },
  {
   "cell_type": "markdown",
   "metadata": {},
   "source": [
    "## Question 6 "
   ]
  },
  {
   "cell_type": "code",
   "execution_count": 115,
   "metadata": {},
   "outputs": [
    {
     "name": "stdout",
     "output_type": "stream",
     "text": [
      "316\n"
     ]
    }
   ],
   "source": [
    "collection.create_index([(\"name\",  \"text\")])\n",
    "cur = collection.find( { \"$text\": { \"$search\": \"Sport\" } } )\n",
    "print(len(list(cur)))"
   ]
  },
  {
   "cell_type": "code",
   "execution_count": null,
   "metadata": {},
   "outputs": [],
   "source": []
  }
 ],
 "metadata": {
  "kernelspec": {
   "display_name": "Python 3",
   "language": "python",
   "name": "python3"
  },
  "language_info": {
   "codemirror_mode": {
    "name": "ipython",
    "version": 3
   },
   "file_extension": ".py",
   "mimetype": "text/x-python",
   "name": "python",
   "nbconvert_exporter": "python",
   "pygments_lexer": "ipython3",
   "version": "3.8.6"
  }
 },
 "nbformat": 4,
 "nbformat_minor": 2
}
