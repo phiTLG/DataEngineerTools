{
 "cells": [
  {
   "cell_type": "markdown",
   "metadata": {},
   "source": [
    "# Introduction"
   ]
  },
  {
   "cell_type": "markdown",
   "metadata": {},
   "source": [
    "Avant de commencer, parcourer le fichier README.rst"
   ]
  },
  {
   "cell_type": "markdown",
   "metadata": {},
   "source": [
    "# Requête HTTP "
   ]
  },
  {
   "cell_type": "markdown",
   "metadata": {},
   "source": [
    "Un requête HTTP est une requête basé sur le protocole TCP, elle fait partie de la couche application de la couche OSI. Elle permet d'accéder aux données mise à disposition sur une adresse IP (ou url résolue par un DNS) et un port. \n",
    "\n",
    "Les deux ports les plus utilisé dans le web sont le 80 pour les sites en HTTP et le 443 pour les sites en HTTPS. HTTPS est une variable du protocole HTTP basé sur le protocole TLS.\n",
    "\n",
    "Il existe de nombreux types de requêtes selon la convention `REST`: \n",
    "- GET\n",
    "- POST\n",
    "- PUT \n",
    "- DELETE\n",
    "- UPDATE.\n",
    "\n",
    "Dans notre cas nous allons utiliser la plupart du temps des GET et potentiellement des POST. \n",
    "- Le GET permet comme sont nom l'indique de récupérer des informations en fonction de certain paramètres. \n",
    "- Le POST nécéssite un envoie de données pour récupérer des données. Le body du post est, la plupart du temps, envoyé sous la forme d'un objet JSON.\n",
    "\n",
    "Ces requêtes encapsulent un certain nombre de paramètres qui permettent soient d'identifier une provenance et un utilisateur ou de réaliser différentes actions."
   ]
  },
  {
   "cell_type": "code",
   "execution_count": 1,
   "metadata": {},
   "outputs": [],
   "source": [
    "import requests"
   ]
  },
  {
   "cell_type": "code",
   "execution_count": 2,
   "metadata": {},
   "outputs": [
    {
     "data": {
      "text/plain": [
       "200"
      ]
     },
     "execution_count": 2,
     "metadata": {},
     "output_type": "execute_result"
    }
   ],
   "source": [
    "url = \"http://www.esiee.fr/\"\n",
    "response = requests.get(url)\n",
    "response.status_code"
   ]
  },
  {
   "cell_type": "markdown",
   "metadata": {},
   "source": [
    "Il existe deux méthodes pour récupérer le contenu de la page :\n",
    "\n",
    "- `response.text` qui permet de retourner le texte sous la forme d'une chaine de charactères.\n",
    "- `response.content` qui permet de récupérer le contenu de la page sous la forme de bytes"
   ]
  },
  {
   "cell_type": "code",
   "execution_count": 3,
   "metadata": {},
   "outputs": [
    {
     "data": {
      "text/plain": [
       "bytes"
      ]
     },
     "execution_count": 3,
     "metadata": {},
     "output_type": "execute_result"
    }
   ],
   "source": [
    "type(response.content)"
   ]
  },
  {
   "cell_type": "code",
   "execution_count": 4,
   "metadata": {},
   "outputs": [
    {
     "data": {
      "text/plain": [
       "str"
      ]
     },
     "execution_count": 4,
     "metadata": {},
     "output_type": "execute_result"
    }
   ],
   "source": [
    "type(response.text)"
   ]
  },
  {
   "cell_type": "markdown",
   "metadata": {},
   "source": [
    "Pour récupérer les 1000 premiers charactères de la page :"
   ]
  },
  {
   "cell_type": "code",
   "execution_count": 5,
   "metadata": {},
   "outputs": [
    {
     "data": {
      "text/plain": [
       "'<!DOCTYPE html>\\n<!--[if lt IE 7]>      <html class=\"no-js lt-ie9 lt-ie8 lt-ie7\"> <![endif]-->\\n<!--[if IE 7]>         <html class=\"no-js lt-ie9 lt-ie8\"> <![endif]-->\\n<!--[if IE 8]>         <html class=\"no-js lt-ie9\"> <![endif]-->\\n<!--[if IE 9]>         <html class=\"no-js ie9\"> <![endif]-->\\n<!--[if gt IE 9]><!--> <html class=\"no-js\"> <!--<![endif]-->\\n<head profile=\"http://www.w3.org/1999/xhtml/vocab\">\\n\\t<!-- Google Tag Manager -->\\n\\t<script>\\n\\t\\t(function(w,d,s,l,i){\\n\\t\\t\\tw[l]=w[l]||[];w[l].push({\\'gtm.start\\':new Date().getTime(),event:\\'gtm.js\\'});\\n\\t\\t\\tvar f=d.getElementsByTagName(s)[0],\\tj=d.createElement(s),dl=l!=\\'dataLayer\\'?\\'&l=\\'+l:\\'\\';\\n\\t\\t\\tj.async=true;\\n\\t\\t\\tj.src=\\'https://www.googletagmanager.com/gtm.js?id=\\'+i+dl;f.parentNode.insertBefore(j,f);\\n\\t\\t\\t}\\n\\t\\t)\\n\\t\\t(window,document,\\'script\\',\\'dataLayer\\',\\'GTM-MQF5LJB\\');\\n\\t</script>\\n\\t<!-- End Google Tag Manager -->\\n  <meta name=\"google-site-verification\" content=\"JnG7DTdhQuWTeSHlWC63CeWpb3WValiOorksYjoYOWI\" />\\n  <meta http-equiv=\"Content-Type\" content=\"text/ht'"
      ]
     },
     "execution_count": 5,
     "metadata": {},
     "output_type": "execute_result"
    }
   ],
   "source": [
    "response.text[0:1000]"
   ]
  },
  {
   "cell_type": "markdown",
   "metadata": {},
   "source": [
    "Pour récupérer les headers HTTP de la réponse :"
   ]
  },
  {
   "cell_type": "code",
   "execution_count": 6,
   "metadata": {},
   "outputs": [
    {
     "data": {
      "text/plain": [
       "{'Date': 'Sun, 15 Nov 2020 16:52:35 GMT', 'Server': 'Apache/2.4.25 (Debian)', 'Expires': 'Sun, 19 Nov 1978 05:00:00 GMT', 'Cache-Control': 'no-cache, must-revalidate', 'X-Content-Type-Options': 'nosniff', 'Content-Language': 'fr', 'X-Frame-Options': 'SAMEORIGIN', 'X-Generator': 'Drupal 7 (http://drupal.org)', 'Vary': 'Accept-Encoding', 'Content-Encoding': 'gzip', 'Content-Length': '16459', 'Keep-Alive': 'timeout=5, max=150', 'Connection': 'Keep-Alive', 'Content-Type': 'text/html; charset=utf-8'}"
      ]
     },
     "execution_count": 6,
     "metadata": {},
     "output_type": "execute_result"
    }
   ],
   "source": [
    "response.headers"
   ]
  },
  {
   "cell_type": "markdown",
   "metadata": {},
   "source": [
    "On peut modifier les paramêtres de la requête et/ou ses headers. On peut par exemple ajouter un UserAgent et un timeout de 10 secondes:"
   ]
  },
  {
   "cell_type": "code",
   "execution_count": 7,
   "metadata": {},
   "outputs": [
    {
     "data": {
      "text/plain": [
       "b'<!DOCTYPE html>\\n<!--[if lt IE 7]>      <html class=\"no-js lt-ie9 lt-ie8 lt-ie7\"> <![endif]-->\\n<!--[if IE 7]>         <html class=\"no-js lt-ie9 lt-ie8\"> <![endif]-->\\n<!--[if IE 8]>         <html class=\"no-js lt-ie9\"> <![endif]-->\\n<!--[if IE 9]>         <html class=\"no-js ie9\"> <![endif]-->\\n<!--[if gt IE 9]><!--> <html class=\"no-js\"> <!--<![endif]-->\\n<head profile=\"http://www.w3.org/1999/xhtml/vocab\">\\n\\t<!-- Google Tag Manager -->\\n\\t<script>\\n\\t\\t(function(w,d,s,l,i){\\n\\t\\t\\tw[l]=w[l]||[];w[l].push({\\'gtm.start\\':new Date().getTime(),event:\\'gtm.js\\'});\\n\\t\\t\\tvar f=d.getElementsByTagName(s)[0],\\tj=d.createElement(s),dl=l!=\\'dataLayer\\'?\\'&l=\\'+l:\\'\\';\\n\\t\\t\\tj.async=true;\\n\\t\\t\\tj.src=\\'https://www.googletagmanager.com/gtm.js?id=\\'+i+dl;f.parentNode.insertBefore(j,f);\\n\\t\\t\\t}\\n\\t\\t)\\n\\t\\t(window,document,\\'script\\',\\'dataLayer\\',\\'GTM-MQF5LJB\\');\\n\\t</script>\\n\\t<!-- End Google Tag Manager -->\\n  <meta name=\"google-site-verification\" content=\"JnG7DTdhQuWTeSHlWC63CeWpb3WValiOorksYjoYOWI\" />\\n  <meta http-equiv=\"Content-Type\" content=\"text/ht'"
      ]
     },
     "execution_count": 7,
     "metadata": {},
     "output_type": "execute_result"
    }
   ],
   "source": [
    "headers = {'User-Agent': 'Mozilla/5.0 (Macintosh; Intel Mac OS X 10_10_1) AppleWebKit/537.36 (KHTML, like Gecko) Chrome/39.0.2171.95 Safari/537.36'}\n",
    "response = requests.get(url, headers=headers, timeout = 10)\n",
    "response.content[0:1000]"
   ]
  },
  {
   "cell_type": "markdown",
   "metadata": {},
   "source": [
    "## Exercice"
   ]
  },
  {
   "cell_type": "markdown",
   "metadata": {},
   "source": [
    "## Exercice 1\n",
    "\n",
    "- Créer une classe Python permettant de faire des requêtes HTTP.\n",
    "- Cette classe doit utiliser toujours le même UserAgent.\n",
    "- Le TimeOut sera spécifié à chaque appelle avec une valeur par défaut.\n",
    "- Un mécanisme de retry sera mis en place de façon recursive.\n",
    "\n",
    "## Exercice 2\n",
    "\n",
    "- Faire une fonction permettant de supprimer tous les espaces supperflus d'une string\n",
    "- Faire une fonction qui prend une string html et renvois une string intelligible (enlever les caractères spéciaux,\n",
    "- Récupérer le domaine en fonction d'un url"
   ]
  },
  {
   "cell_type": "code",
   "execution_count": 8,
   "metadata": {},
   "outputs": [
    {
     "name": "stdout",
     "output_type": "stream",
     "text": [
      "<!DOCTYPE html>\n",
      "<!--[if lt IE 7]>      <html class=\"no-js lt-ie9 lt-ie8 lt-ie7\"> <![endif]-->\n",
      "<!--[if IE 7]>         <html class=\"no-js lt-ie9 lt-ie8\"> <![endif]-->\n",
      "<!--[if IE 8]>         <html class=\"no-js lt-ie9\"> <![endif]-->\n",
      "<!--[if IE 9]>         <html class=\"no-js ie9\"> <![endif]-->\n",
      "<!--[if gt IE 9]><!--> <html class=\"no-js\"> <!--<![endif]-->\n",
      "<head profile=\"http://www.w3.org/1999/xhtml/vocab\">\n",
      "\t<!-- Google Tag Manager -->\n",
      "\t<script>\n",
      "\t\t(function(w,d,s,l,i){\n",
      "\t\t\tw[l]=w[l]||[];w[l].push({'gtm.start':new Date().getTime(),event:'gtm.js'});\n",
      "\t\t\tvar f=d.getElementsByTagName(s)[0],\tj=d.createElement(s),dl=l!='dataLayer'?'&l='+l:'';\n",
      "\t\t\tj.async=true;\n",
      "\t\t\tj.src='https://www.googletagmanager.com/gtm.js?id='+i+dl;f.parentNode.insertBefore(j,f);\n",
      "\t\t\t}\n",
      "\t\t)\n",
      "\t\t(window,document,'script','dataLayer','GTM-MQF5LJB');\n",
      "\t</script>\n",
      "\t<!-- End Google Tag Manager -->\n",
      "  <meta name=\"google-site-verification\" content=\"JnG7DTdhQuWTeSHlWC63CeWpb3WValiOorksYjoYOWI\" />\n",
      "  <meta http-equiv=\"Content-Type\" content=\"text/ht\n",
      "<!DOCTYPE html>\n",
      "<!--[if lt IE 7]> <html class=\"no-js lt-ie9 lt-ie8 lt-ie7\"> <![endif]-->\n",
      "<!--[if IE 7]> <html class=\"no-js lt-ie9 lt-ie8\"> <![endif]-->\n",
      "<!--[if IE 8]> <html class=\"no-js lt-ie9\"> <![endif]-->\n",
      "<!--[if IE 9]> <html class=\"no-js ie9\"> <![endif]-->\n",
      "<!--[if gt IE 9]><!--> <html class=\"no-js\"> <!--<![endif]-->\n",
      "<head profile=\"http://www.w3.org/1999/xhtml/vocab\">\n",
      "\t<!-- Google Tag Manager -->\n",
      "\t<script>\n",
      "\t\t(function(w,d,s,l,i){\n",
      "\t\t\tw[l]=w[l]||[];w[l].push({'gtm.start':new Date().getTime(),event:'gtm.js'});\n",
      "\t\t\tvar f=d.getElementsByTagName(s)[0],\tj=d.createElement(s),dl=l!='dataLayer'?'&l='+l:'';\n",
      "\t\t\tj.async=true;\n",
      "\t\t\tj.src='https://www.googletagmanager.com/gtm.js?id='+i+dl;f.parentNode.insertBefore(j,f);\n",
      "\t\t\t}\n",
      "\t\t)\n",
      "\t\t(window,document,'script','dataLayer','GTM-MQF5LJB');\n",
      "\t</script>\n",
      "\t<!-- End Google Tag Manager -->\n",
      " <meta name=\"google-site-verification\" content=\"JnG7DTdhQuWTeSHlWC63CeWpb3WValiOorksYjoYOWI\" />\n",
      " <meta http-equiv=\"Content-Type\" content=\"text/ht\n",
      "  DOCTYPE html       if lt IE 7         html class  no js lt ie9 lt ie8 lt ie7      endif          if IE 7            html class  no js lt ie9 lt ie8      endif          if IE 8            html class  no js lt ie9      endif          if IE 9            html class  no js ie9      endif          if gt IE 9         html class  no js          endif      head profile  http   www w3 org 1999 xhtml vocab         Google Tag Manager       script     function w d s l i      w l  w l      w l  push   gtm start  new Date   getTime   event  gtm js        var f d getElementsByTagName s  0   j d createElement s  dl l   dataLayer    l   l        j async true     j src  https   www googletagmanager com gtm js id   i dl f parentNode insertBefore j f               window document  script   dataLayer   GTM MQF5LJB       script        End Google Tag Manager        meta name  google site verification  content  JnG7DTdhQuWTeSHlWC63CeWpb3WValiOorksYjoYOWI        meta http equiv  Content Type  content  text ht\n",
      "www.esiee.fr\n"
     ]
    }
   ],
   "source": [
    "import re\n",
    "from urllib.parse import urlparse\n",
    "\n",
    "class HTTPRequests:\n",
    "    def __init__(self, url):\n",
    "        self.url = url\n",
    "        self.headers = {'User-Agent': 'Mozilla/5.0 (Macintosh; Intel Mac OS X 10_10_1) AppleWebKit/537.36 (KHTML, like Gecko) Chrome/39.0.2171.95 Safari/537.36'}\n",
    "        self.timeout = 10\n",
    "        \n",
    "    def retry(self):\n",
    "        try:\n",
    "            self.response = requests.get(self.url, headers=self.headers, timeout = self.timeout)\n",
    "            #print(self.response.content[0:1000])\n",
    "        except:\n",
    "            retry()\n",
    "            \n",
    "def noSpace(s):\n",
    "    return re.sub(' +', ' ', re.sub('\\n\\n+', ' ', s)) #return \" \".join(text.split())\n",
    "    \n",
    "def noSpecial(html):\n",
    "    return re.sub('[^A-Za-z0-9]',' ',html)\n",
    "\n",
    "def urlDomain(url):\n",
    "    return urlparse(url).netloc      \n",
    "    \n",
    "\n",
    "url = \"http://www.esiee.fr/\"\n",
    "\n",
    "request = HTTPRequests(url)\n",
    "request.retry()\n",
    "rep = request.response.text[0:1000]\n",
    "print(rep)\n",
    "print(noSpace(rep))\n",
    "print(noSpecial(rep))\n",
    "print(urlDomain(url))\n",
    "        "
   ]
  },
  {
   "cell_type": "markdown",
   "metadata": {},
   "source": [
    "# Exploitation du HTML  "
   ]
  },
  {
   "cell_type": "markdown",
   "metadata": {},
   "source": [
    "Ici, il faut récupérer le code HTML d'un site web à partir d'une requête. Lorsque vous avez récupéré le texte d'un site il faut le parser. Pour cela, on utilise BeautifulSoup qui permet de transformer la structure HTML en objet Python. Cela permet de récupérer efficacement les données qui nous intéresse.\n",
    "\n",
    "Pour les webmasters, le blocage le plus souvent mis en place et un blocage sur le User-Agent. Le User-Agent est un paramètre intégré dans la requête HTTP réalisé par le Navigateur pour envoyer au front des informations basiques :\n",
    "\n",
    "- la version du Navigateur,\n",
    "- la version de l'OS\n",
    "- Le type de gestionnaire graphique (Gecko)\n",
    "- le type de device utilisé"
   ]
  },
  {
   "cell_type": "markdown",
   "metadata": {},
   "source": [
    "Exemple de User Agent :  \n",
    "\n",
    "`Mozilla/5.0 (Windows NT 6.1; Win64; x64; rv:47.0) Gecko/20100101 Firefox/47.0`"
   ]
  },
  {
   "cell_type": "markdown",
   "metadata": {},
   "source": [
    "Commençons à utiliser `BeautifulSoup`, pour l'installer : "
   ]
  },
  {
   "cell_type": "code",
   "execution_count": 9,
   "metadata": {},
   "outputs": [
    {
     "name": "stdout",
     "output_type": "stream",
     "text": [
      "Requirement already satisfied: bs4 in c:\\users\\tlg\\anaconda3\\lib\\site-packages (0.0.1)\n",
      "Requirement already satisfied: beautifulsoup4 in c:\\users\\tlg\\anaconda3\\lib\\site-packages (from bs4) (4.9.1)\n",
      "Requirement already satisfied: soupsieve>1.2 in c:\\users\\tlg\\anaconda3\\lib\\site-packages (from beautifulsoup4->bs4) (2.0.1)\n",
      "Requirement already satisfied: lxml in c:\\users\\tlg\\anaconda3\\lib\\site-packages (4.5.2)\n"
     ]
    }
   ],
   "source": [
    "!pip install bs4\n",
    "!pip install  lxml"
   ]
  },
  {
   "cell_type": "code",
   "execution_count": 10,
   "metadata": {},
   "outputs": [],
   "source": [
    "import requests\n",
    "from bs4 import BeautifulSoup"
   ]
  },
  {
   "cell_type": "markdown",
   "metadata": {},
   "source": [
    "Pour transformer une requête (requests) en objet BeautifulSoup :"
   ]
  },
  {
   "cell_type": "code",
   "execution_count": 11,
   "metadata": {},
   "outputs": [],
   "source": [
    "response = requests.get(url)\n",
    "soup = BeautifulSoup(response.text)"
   ]
  },
  {
   "cell_type": "markdown",
   "metadata": {},
   "source": [
    "Il se peut qu'un message d'erreur arrive à ce point là si vous n'avez pas la librarie `lxml` installée, pour se faire vous avez juste à lancer la commande suivante : "
   ]
  },
  {
   "cell_type": "code",
   "execution_count": 12,
   "metadata": {},
   "outputs": [
    {
     "name": "stdout",
     "output_type": "stream",
     "text": [
      "Requirement already satisfied: lxml in c:\\users\\tlg\\anaconda3\\lib\\site-packages (4.5.2)\n"
     ]
    }
   ],
   "source": [
    "!pip install lxml"
   ]
  },
  {
   "cell_type": "markdown",
   "metadata": {},
   "source": [
    "Pour trouver tous les liens d'une page on récupère la balise `a` qui permet de gérer les liens en HTML  :"
   ]
  },
  {
   "cell_type": "code",
   "execution_count": 13,
   "metadata": {},
   "outputs": [
    {
     "data": {
      "text/plain": [
       "[<a href=\"#\">\n",
       " <i class=\"icon-parametres\"></i>\n",
       " </a>,\n",
       " <a href=\"https://gmail.com\" target=\"_blank\" title=\"Webmail ESIEE Paris\"><i><img alt=\"\" src=\"https://www.esiee.fr/sites/default/files/menu_icons/menu_icon_950.png\"/> </i><span>Webmail ESIEE Paris</span></a>,\n",
       " <a href=\"https://planif.esiee.fr/direct/\" target=\"_blank\" title=\"Emploi du temps général\"><i><img alt=\"\" src=\"https://www.esiee.fr/sites/default/files/menu_icons/menu_icon_1331.png\"/> </i><span>Emploi du temps général</span></a>,\n",
       " <a href=\"https://planif.esiee.fr/jsp/custom/esiee/easyMyPlanning.jsp\" target=\"_blank\" title=\"Emploi du temps individuel\"><i><img alt=\"\" src=\"https://www.esiee.fr/sites/default/files/menu_icons/menu_icon_1332.png\"/> </i><span>Emploi du temps individuel</span></a>,\n",
       " <a href=\"https://intra.esiee.fr\" target=\"_blank\" title=\"Extranet\"><i><img alt=\"\" src=\"https://www.esiee.fr/sites/default/files/menu_icons/menu_icon_951.png\"/> </i><span>Extranet</span></a>,\n",
       " <a href=\"https://esiee.blackboard.com\" target=\"_blank\" title=\"iCampus\"><i><img alt=\"\" src=\"https://www.esiee.fr/sites/default/files/menu_icons/menu_icon_1311.png\"/> </i><span>iCampus</span></a>,\n",
       " <a href=\"http://e5.onthehub.com/WebStore/Welcome.aspx?vsro=8&amp;ws=45AD823E-799B-E011-969D-0030487D8897&amp;JSEnabled=1\" target=\"_blank\" title=\"Microsoft DreamSpark\"><i><img alt=\"\" src=\"https://www.esiee.fr/sites/default/files/menu_icons/menu_icon_1696.png\"/> </i><span>Microsoft DreamSpark</span></a>,\n",
       " <a href=\"/en\">\n",
       " <i>\n",
       " <img alt=\"English\" src=\"/sites/all/themes/custom/esiee_theme/assets/images/flag-en.png\"/>\n",
       " </i>\n",
       " </a>,\n",
       " <a href=\"https://www.facebook.com/esieeparis\" target=\"_blank\">\n",
       " <i class=\"fa fa-facebook\"></i>\n",
       " </a>,\n",
       " <a href=\"https://twitter.com/ESIEEPARIS\" target=\"_blank\">\n",
       " <i class=\"fa fa-twitter\"></i>\n",
       " </a>]"
      ]
     },
     "execution_count": 13,
     "metadata": {},
     "output_type": "execute_result"
    }
   ],
   "source": [
    "soup.find_all(\"a\")[0:10]"
   ]
  },
  {
   "cell_type": "markdown",
   "metadata": {},
   "source": [
    "On peut préciser la classe HTML voulue  pour l'ensemble des `a`:\n",
    "\n",
    "```python\n",
    "soup.find_all(class_=\"<CLASS_NAME>\")[0:10]\n",
    "```\n",
    "\n",
    "Ici par exemple: "
   ]
  },
  {
   "cell_type": "code",
   "execution_count": 14,
   "metadata": {},
   "outputs": [
    {
     "data": {
      "text/plain": [
       "[<div class=\"slide slide-content\">\n",
       " <span class=\"slide-content-date inline-block\"><span class=\"date-display-single\">30.10.2020</span></span>\n",
       " <span class=\"slide-content-theme inline-block is-uppercase\">Actualités</span>\n",
       " <div class=\"clearfix\"></div>\n",
       " <div class=\"slide-content-img pull-left\"><!-- scald=2641:news_thumbnail --><img alt=\"Informations Coronavirus\" height=\"90\" src=\"https://www.esiee.fr/sites/default/files/styles/news/public/thumbnails/image/informations-coronavirus.jpg?itok=YDDYw-dy\" title=\"Informations Coronavirus\" width=\"120\"/><!-- END scald=2641 --></div>\n",
       " <span class=\"slide-content-title\"><a class=\"is-uppercase\" href=\"/fr/actualite/information-coronavirus\">Dernières informations Covid-19</a></span>\n",
       " <div class=\"clearfix\"></div>\n",
       " <p class=\"slide-content-desc\">Cette page a pour objectif de vous informer en temps réel des mesures prises par l’école dans le cadre de la situation exceptionnelle dûe à l'épidémie du Coronavirus.</p> </div>,\n",
       " <div class=\"slide slide-content\">\n",
       " <span class=\"slide-content-date inline-block\"><span class=\"date-display-single\">03.11.2020</span></span>\n",
       " <span class=\"slide-content-theme inline-block is-uppercase\">Concours</span>\n",
       " <div class=\"clearfix\"></div>\n",
       " <div class=\"slide-content-img pull-left\"><!-- scald=2697:news_thumbnail --><img alt=\"iCAN 2020\" height=\"90\" src=\"https://www.esiee.fr/sites/default/files/styles/news/public/thumbnails/image/visuel-ican-2020-web.png?itok=OSNMiqc4\" title=\"iCAN 2020\" width=\"120\"/><!-- END scald=2697 --></div>\n",
       " <span class=\"slide-content-title\"><a class=\"is-uppercase\" href=\"/fr/actualite/concours-ican-2020\">Des étudiants ESIEE Paris remportent le 1er prix du concours international iCAN</a></span>\n",
       " <div class=\"clearfix\"></div>\n",
       " <p class=\"slide-content-desc\">Bravo à Kathyna, Yasmine, Davina, et Gabin qui remportent le premier prix du Concours international “iCan 2020”.</p> </div>,\n",
       " <div class=\"slide slide-content\">\n",
       " <span class=\"slide-content-date inline-block\"><span class=\"date-display-single\">27.10.2020</span></span>\n",
       " <span class=\"slide-content-theme inline-block is-uppercase\">Evènements</span>\n",
       " <div class=\"clearfix\"></div>\n",
       " <div class=\"slide-content-img pull-left\"><!-- scald=2691:news_thumbnail --><img alt=\"Forum Descartes 2020\" height=\"90\" src=\"https://www.esiee.fr/sites/default/files/styles/news/public/thumbnails/image/bandeaulinkedin_2020.jpg?itok=EZIG7QEk\" title=\"Forum Descartes 2020\" width=\"120\"/><!-- END scald=2691 --></div>\n",
       " <span class=\"slide-content-title\"><a class=\"is-uppercase\" href=\"/fr/actualite/forum-descartes-2020\">Forum Descartes 2020 : une édition 100% numérique et interactive</a></span>\n",
       " <div class=\"clearfix\"></div>\n",
       " <p class=\"slide-content-desc\">Le Forum Descartes est de retour du jeudi 19 au vendredi 27 novembre 2020.</p> </div>,\n",
       " <div class=\"slide slide-content\">\n",
       " <span class=\"slide-content-date inline-block\"><span class=\"date-display-single\">19.10.2020</span></span>\n",
       " <span class=\"slide-content-theme inline-block is-uppercase\">Actualités</span>\n",
       " <div class=\"clearfix\"></div>\n",
       " <div class=\"slide-content-img pull-left\"><!-- scald=2680:news_thumbnail --><img alt=\"Hommage à Samuel Paty\" height=\"90\" src=\"https://www.esiee.fr/sites/default/files/styles/news/public/thumbnails/image/samuel_paty.jpg?itok=coQjCfWX\" title=\"Hommage à Samuel Paty\" width=\"120\"/><!-- END scald=2680 --></div>\n",
       " <span class=\"slide-content-title\"><a class=\"is-uppercase\" href=\"/fr/esiee-paris-sassocie-%C3%A0-lhommage-national-%C3%A0-samuel-paty\">ESIEE Paris s'associe à l'hommage national à Samuel Paty</a></span>\n",
       " <div class=\"clearfix\"></div>\n",
       " <p class=\"slide-content-desc\">ESIEE Paris s'associe à l'hommage national à Samuel Paty</p> </div>,\n",
       " <div class=\"slide slide-content\">\n",
       " <span class=\"slide-content-date inline-block\"><span class=\"date-display-single\">08.10.2020</span></span>\n",
       " <span class=\"slide-content-theme inline-block is-uppercase\">Challenge</span>\n",
       " <div class=\"clearfix\"></div>\n",
       " <div class=\"slide-content-img pull-left\"></div>\n",
       " <span class=\"slide-content-title\"><a class=\"is-uppercase\" href=\"/fr/actualite/challenge-brigitte-friang-2020-dgse-esiee\">La DGSE et ESIEE Paris organisent le challenge Cybersécurité Brigitte Friang</a></span>\n",
       " <div class=\"clearfix\"></div>\n",
       " <p class=\"slide-content-desc\">Du 24 octobre au 11 novembre 2020, la DGSE et ESIEE Paris organisent le challenge Cybersécurité Brigitte Friang.</p> </div>]"
      ]
     },
     "execution_count": 14,
     "metadata": {},
     "output_type": "execute_result"
    }
   ],
   "source": [
    "soup.find_all(class_=\"slide\")[0:5]"
   ]
  },
  {
   "cell_type": "markdown",
   "metadata": {},
   "source": [
    "Pour récupérer le text sans les balises HTML :"
   ]
  },
  {
   "cell_type": "code",
   "execution_count": 15,
   "metadata": {},
   "outputs": [
    {
     "data": {
      "text/plain": [
       "' \\n\\n\\n\\n\\n\\n\\n\\n\\n\\nESIEE Paris, l’école de l’innovation technologique | Grande école d’ingénieurs | ESIEE Paris\\n\\n\\n\\n\\n\\n\\n\\n\\n\\n\\n\\n\\n\\n\\n\\n \\n\\n\\n\\n\\n\\n\\n\\n\\n\\n\\n\\nLes outils ESIEE Paris Webmail ESIEE Paris Emploi du temps général Emploi du temps individuel Extranet iCampus Microsoft DreamSpark \\n\\n\\n\\n\\n\\n\\n\\n\\n\\n\\n\\n\\n\\n\\n\\n\\n\\n\\n\\n\\n\\n\\n\\n\\n\\n\\n\\n\\n\\n\\n\\n\\n\\n\\n\\n\\n\\n\\n\\n\\n\\n\\n\\n\\n\\n\\n menu\\nFormations\\n\\n\\nRETOUR menu\\nFormations ESIEE ParisIngénieur\\n\\n\\nIngénieur\\nRETOUR Formations\\nIngénieur ESIEE ParisPremier cycleLe cycle ingénieur\\n\\n\\nLe cycle ingénieur\\nRETOUR Ingénieur\\nLe cycle ingénieur ESIEE ParisEnseignements de 1ère annéeEnseignements de 2e et 3e annéeProfils métiersFilières\\n\\n\\nFilières\\nRETOUR Ingénieur\\n9 filières, 1 diplômeInformatiqueCybersécuritéDatascience et intelligence artificielleArtificial Intelligence and CybersecuritySystèmes embarquésSystèmes électroniques intelligentsGénie industrielBiotechnologies et e-santéEnergieEmplois et salairesFrais de scolarité ingénieur et aides financièresStagesAdmissionsContactIngénieur par apprentissage\\n\\n\\nIngénieur par a'"
      ]
     },
     "execution_count": 15,
     "metadata": {},
     "output_type": "execute_result"
    }
   ],
   "source": [
    "soup.text[0:1000]"
   ]
  },
  {
   "cell_type": "markdown",
   "metadata": {},
   "source": [
    "## Exercice\n",
    "### Exercice 3\n",
    "\n",
    "Améliorer la classe développé précédemment.\n",
    "\n",
    "- Ajouter une méthode pour récupérer l'objet soup d'un url\n",
    "- Récupérer une liste de User Agent et effectuer une rotation aléatoire sur celui à utiliser\n",
    "- Utiliser cette classe pour parser une page HTML et récupérer : le titre, tous les H1 (si ils existent), les liens vers les images, les liens sortants vers d'autres sites, et le texte principal.\n",
    "\n",
    "Parsing d'un sitemaps pour récupérer une listes de liens avec les informations disponibles. -> Stocker dans un dictionnaire et dans un fichier JSON local."
   ]
  },
  {
   "cell_type": "code",
   "execution_count": 23,
   "metadata": {},
   "outputs": [
    {
     "name": "stdout",
     "output_type": "stream",
     "text": [
      "www.esiee.fr\n",
      "ESIEE Paris, l’école de l’innovation technologique | Grande école d’ingénieurs | ESIEE Paris\n",
      "['Actualités', 'Domaines de compétences']\n",
      "[<img alt=\"\" src=\"https://www.esiee.fr/sites/default/files/menu_icons/menu_icon_950.png\"/>, <img alt=\"\" src=\"https://www.esiee.fr/sites/default/files/menu_icons/menu_icon_1331.png\"/>, <img alt=\"\" src=\"https://www.esiee.fr/sites/default/files/menu_icons/menu_icon_1332.png\"/>, <img alt=\"\" src=\"https://www.esiee.fr/sites/default/files/menu_icons/menu_icon_951.png\"/>, <img alt=\"\" src=\"https://www.esiee.fr/sites/default/files/menu_icons/menu_icon_1311.png\"/>, <img alt=\"\" src=\"https://www.esiee.fr/sites/default/files/menu_icons/menu_icon_1696.png\"/>, <img alt=\"English\" src=\"/sites/all/themes/custom/esiee_theme/assets/images/flag-en.png\"/>, <img alt=\"Réseaux sociaux\" src=\"/sites/all/themes/custom/esiee_theme/assets/images/icon-socialnetworks.png\"/>, <img alt=\"ESIEE Paris\" src=\"https://www.esiee.fr/sites/all/themes/custom/esiee_theme/logo.png\"/>, <img alt=\"home-bandeau-1.png\" src=\"https://www.esiee.fr/sites/default/files/home-bandeau-1_0.png\" title=\"home-bandeau-1.png\"/>, <img alt=\"Illustration International Masters home\" src=\"https://www.esiee.fr/sites/default/files/home-bandeau-4.png\" title=\"Illustration International Masters home\"/>, <img alt=\"Illustration Mastères Spécialisés home\" height=\"343\" src=\"https://www.esiee.fr/sites/default/files/home-bandeau-3.png\" title=\"Illustration Mastères Spécialisés home\" width=\"1018\"/>, <img alt=\"Illustration Ingénieur par apprentissage - Home page\" height=\"344\" src=\"https://www.esiee.fr/sites/default/files/illustration-ingenieurs-app.-home.png\" title=\"Illustration Ingénieur par apprentissage - Home page\" width=\"1018\"/>, <img alt=\"home-bandeau-1.png\" src=\"https://www.esiee.fr/sites/default/files/home-bandeau-1_0.png\" title=\"home-bandeau-1.png\"/>, <img alt=\"Illustration International Masters home\" src=\"https://www.esiee.fr/sites/default/files/home-bandeau-4.png\" title=\"Illustration International Masters home\"/>, <img alt=\"Illustration Mastères Spécialisés home\" height=\"343\" src=\"https://www.esiee.fr/sites/default/files/home-bandeau-3.png\" title=\"Illustration Mastères Spécialisés home\" width=\"1018\"/>, <img alt=\"Illustration Ingénieur par apprentissage - Home page\" height=\"344\" src=\"https://www.esiee.fr/sites/default/files/illustration-ingenieurs-app.-home.png\" title=\"Illustration Ingénieur par apprentissage - Home page\" width=\"1018\"/>, <img alt=\"Informations Coronavirus\" height=\"90\" src=\"https://www.esiee.fr/sites/default/files/styles/news/public/thumbnails/image/informations-coronavirus.jpg?itok=YDDYw-dy\" title=\"Informations Coronavirus\" width=\"120\"/>, <img alt=\"iCAN 2020\" height=\"90\" src=\"https://www.esiee.fr/sites/default/files/styles/news/public/thumbnails/image/visuel-ican-2020-web.png?itok=OSNMiqc4\" title=\"iCAN 2020\" width=\"120\"/>, <img alt=\"Forum Descartes 2020\" height=\"90\" src=\"https://www.esiee.fr/sites/default/files/styles/news/public/thumbnails/image/bandeaulinkedin_2020.jpg?itok=EZIG7QEk\" title=\"Forum Descartes 2020\" width=\"120\"/>, <img alt=\"Hommage à Samuel Paty\" height=\"90\" src=\"https://www.esiee.fr/sites/default/files/styles/news/public/thumbnails/image/samuel_paty.jpg?itok=coQjCfWX\" title=\"Hommage à Samuel Paty\" width=\"120\"/>, <img alt=\"L'Université Gustave Eiffel entre dans le classement de Shanghai\" height=\"90\" src=\"https://www.esiee.fr/sites/default/files/styles/news/public/thumbnails/image/epamarne-aerien-classment-shanghai-2020.jpg?itok=AU_OUSKD\" title=\"L'Université Gustave Eiffel entre dans le classement de Shanghai\" width=\"120\"/>, <img alt=\"Remise des trophées des femmes de l'industrie 2020\" height=\"90\" src=\"https://www.esiee.fr/sites/default/files/styles/news/public/thumbnails/image/remise-trophees-femmes-industrie-2020.png.jpg?itok=rnBo1EXD\" title=\"Remise des trophées des femmes de l'industrie 2020\" width=\"120\"/>, <img alt=\"Olympiades des mathématiques - Axe de la terre\" height=\"90\" src=\"https://www.esiee.fr/sites/default/files/styles/news/public/thumbnails/image/image00008-3_0.jpg?itok=Yh2kv37r\" title=\"Olympiades des mathématiques - Axe de la terre\" width=\"120\"/>, <img alt=\"ESIEE Paris - HappyAtSchool 2020\" height=\"90\" src=\"https://www.esiee.fr/sites/default/files/styles/news/public/thumbnails/image/visuel-happyatschool-web.png?itok=meQcT1Wi\" title=\"ESIEE Paris - HappyAtSchool 2020\" width=\"120\"/>, <img alt=\"ESIEE Paris, classement L'Etudiant 2020\" height=\"90\" src=\"https://www.esiee.fr/sites/default/files/styles/news/public/thumbnails/image/generique-salons_0.png?itok=pHl-Oegr\" title=\"ESIEE Paris, classement L'Etudiant 2020\" width=\"120\"/>, <img alt=\"Classement internatinal U-Multirank 2019\" height=\"90\" src=\"https://www.esiee.fr/sites/default/files/styles/news/public/thumbnails/image/illustration-classement-u-multirank-2019_0.png?itok=AAPQqNJc\" title=\"Classement internatinal U-Multirank 2019\" width=\"120\"/>, <img alt=\"Le Groupe Renault parrain des prochaines promotions ESIEE Paris \" height=\"90\" src=\"https://www.esiee.fr/sites/default/files/styles/news/public/thumbnails/image/parrainage-renault.jpg?itok=d9o-s_mR\" title=\"Le Groupe Renault parrain des prochaines promotions ESIEE Paris \" width=\"120\"/>, <img alt=\"La Recherche à ESIEE Paris\" height=\"121\" src=\"https://www.esiee.fr/sites/default/files/illustration-home-recherche.png\" title=\"La Recherche à ESIEE Paris\" width=\"319\"/>, <img alt=\"Les relations entreprises à ESIEE Paris\" height=\"121\" src=\"https://www.esiee.fr/sites/default/files/illustration-home-entreprises_0.png\" title=\"Les relations entreprises à ESIEE Paris\" width=\"319\"/>, <img alt=\"w1-banniere-jpo-9012021.jpg\" height=\"425\" src=\"https://www.esiee.fr/sites/default/files/styles/promotion_desktop/public/thumbnails/image/w1-banniere-jpo-9012021.jpg?itok=nNQCH3ZC\" title=\"Journées Portes Ouvertes 2021\" width=\"243\"/>, <img alt=\"w2-banniere-jpo-9012021.jpg\" height=\"425\" src=\"https://www.esiee.fr/sites/default/files/styles/promotion_desktop/public/thumbnails/image/w2-banniere-jpo-9012021.jpg?itok=9amn3AST\" title=\"Journées Portes Ouvertes 2021\" width=\"243\"/>, <img alt=\"w3-banniere-jpo-9012021.jpg\" height=\"425\" src=\"https://www.esiee.fr/sites/default/files/styles/promotion_desktop/public/thumbnails/image/w3-banniere-jpo-9012021.jpg?itok=Omvd0Hj5\" title=\"Journées Portes Ouvertes 2021\" width=\"243\"/>, <img alt=\"w4-banniere-jpo-9012021.jpg\" height=\"425\" src=\"https://www.esiee.fr/sites/default/files/styles/promotion_desktop/public/thumbnails/image/w4-banniere-jpo-9012021.jpg?itok=5laGHONq\" title=\"Journées Portes Ouvertes 2021\" width=\"243\"/>, <img alt=\"Visite virtuelle ESIEE Paris\" height=\"425\" src=\"https://www.esiee.fr/sites/default/files/styles/promotion_desktop/public/thumbnails/image/w1_banniere_visite-virtuelle.jpg?itok=Mb95IJ6I\" title=\"Visite virtuelle ESIEE Paris\" width=\"243\"/>, <img alt=\"Visite virtuelle ESIEE Paris\" height=\"425\" src=\"https://www.esiee.fr/sites/default/files/styles/promotion_desktop/public/thumbnails/image/w2_banniere_visite-virtuelle.jpg?itok=hgFpg91_\" title=\"Visite virtuelle ESIEE Paris\" width=\"243\"/>, <img alt=\"Visite virtuelle ESIEE Paris\" height=\"425\" src=\"https://www.esiee.fr/sites/default/files/styles/promotion_desktop/public/thumbnails/image/w3_banniere_visite-virtuelle.jpg?itok=Vo3XNZwo\" title=\"Visite virtuelle ESIEE Paris\" width=\"243\"/>, <img alt=\"Visite virtuelle ESIEE Paris\" height=\"425\" src=\"https://www.esiee.fr/sites/default/files/styles/promotion_desktop/public/thumbnails/image/w4_banniere_visite-virtuelle.jpg?itok=dISoCKE-\" title=\"Visite virtuelle ESIEE Paris\" width=\"243\"/>, <img alt=\"w1 bannière renault parrain\" height=\"425\" src=\"https://www.esiee.fr/sites/default/files/styles/promotion_desktop/public/thumbnails/image/w1-renault.jpg?itok=3X0lIx0o\" title=\"w1 bannière renault parrain\" width=\"243\"/>, <img alt=\"w2 bannière renault parrain\" height=\"425\" src=\"https://www.esiee.fr/sites/default/files/styles/promotion_desktop/public/thumbnails/image/w2-renault.jpg?itok=2RMn1940\" title=\"w2 bannière renault parrain\" width=\"243\"/>, <img alt=\"t1-banniere-jpo-2021.jpg\" height=\"122\" src=\"https://www.esiee.fr/sites/default/files/styles/promotion_tablet/public/thumbnails/image/t1-banniere-jpo-2021.jpg?itok=xNAvO4Gn\" title=\"Journées Portes Ouvertes 2021\" width=\"649\"/>, <img alt=\"t2-banniere-jpo-2021.jpg\" height=\"122\" src=\"https://www.esiee.fr/sites/default/files/styles/promotion_tablet/public/thumbnails/image/t2-banniere-jpo-2021.jpg?itok=Zf7RjoMF\" title=\"Journées Portes Ouvertes 2021\" width=\"649\"/>, <img alt=\"t3-banniere-jpo-2021.jpg\" height=\"122\" src=\"https://www.esiee.fr/sites/default/files/styles/promotion_tablet/public/thumbnails/image/t3-banniere-jpo-2021.jpg?itok=gZ4iDh6N\" title=\"Journées Portes Ouvertes 2021\" width=\"649\"/>, <img alt=\"t4-banniere-jpo-2021.jpg\" height=\"122\" src=\"https://www.esiee.fr/sites/default/files/styles/promotion_tablet/public/thumbnails/image/t4-banniere-jpo-2021.jpg?itok=jyntzdzW\" title=\"Journées Portes Ouvertes 2021\" width=\"649\"/>, <img alt=\"Visite virtuelle ESIEE Paris\" height=\"122\" src=\"https://www.esiee.fr/sites/default/files/styles/promotion_tablet/public/thumbnails/image/t1_banniere_visite-virtuelle.jpg?itok=Ey6BcwiC\" title=\"Visite virtuelle ESIEE Paris\" width=\"649\"/>, <img alt=\"Visite virtuelle ESIEE Paris\" height=\"122\" src=\"https://www.esiee.fr/sites/default/files/styles/promotion_tablet/public/thumbnails/image/t2_banniere_visite-virtuelle.jpg?itok=mW8bCV1D\" title=\"Visite virtuelle ESIEE Paris\" width=\"649\"/>, <img alt=\"Visite virtuelle ESIEE Paris\" height=\"122\" src=\"https://www.esiee.fr/sites/default/files/styles/promotion_tablet/public/thumbnails/image/t3_banniere_visite-virtuelle.jpg?itok=HzzkZrg2\" title=\"Visite virtuelle ESIEE Paris\" width=\"649\"/>, <img alt=\"Visite virtuelle ESIEE Paris\" height=\"122\" src=\"https://www.esiee.fr/sites/default/files/styles/promotion_tablet/public/thumbnails/image/t4_banniere_visite-virtuelle.jpg?itok=-cu5O_iB\" title=\"Visite virtuelle ESIEE Paris\" width=\"649\"/>, <img alt=\"t1 bannière renault parrain\" height=\"122\" src=\"https://www.esiee.fr/sites/default/files/styles/promotion_tablet/public/thumbnails/image/t1-renault.jpg?itok=OjXffxSU\" title=\"t1 bannière renault parrain\" width=\"649\"/>, <img alt=\"t2 bannière renault parrain\" height=\"122\" src=\"https://www.esiee.fr/sites/default/files/styles/promotion_tablet/public/thumbnails/image/t2-renault.jpg?itok=61rIpnvX\" title=\"t2 bannière renault parrain\" width=\"649\"/>, <img alt=\"m1-banniere-jpo-2021.jpg\" height=\"122\" src=\"https://www.esiee.fr/sites/default/files/styles/promotion_mobile/public/thumbnails/image/m1-banniere-jpo-2021.jpg?itok=75sTb9w6\" title=\"Journées Portes Ouvertes 2021\" width=\"480\"/>, <img alt=\"m2-banniere-jpo-2021.jpg\" height=\"122\" src=\"https://www.esiee.fr/sites/default/files/styles/promotion_mobile/public/thumbnails/image/m2-banniere-jpo-2021.jpg?itok=i7gnoX8a\" title=\"Journées Portes Ouvertes 2021\" width=\"480\"/>, <img alt=\"m3-banniere-jpo-2021.jpg\" height=\"122\" src=\"https://www.esiee.fr/sites/default/files/styles/promotion_mobile/public/thumbnails/image/m3-banniere-jpo-2021.jpg?itok=d_P5T9pb\" title=\"Journées Portes Ouvertes 2021\" width=\"480\"/>, <img alt=\"m4-banniere-jpo-2021.jpg\" height=\"122\" src=\"https://www.esiee.fr/sites/default/files/styles/promotion_mobile/public/thumbnails/image/m4-banniere-jpo-2021.jpg?itok=qyGEJaf0\" title=\"Journées Portes Ouvertes 2021\" width=\"480\"/>, <img alt=\"Visite virtuelle ESIEE Paris\" height=\"122\" src=\"https://www.esiee.fr/sites/default/files/styles/promotion_mobile/public/thumbnails/image/m1_banniere_visite-virtuelle.jpg?itok=x1o7WU_l\" title=\"Visite virtuelle ESIEE Paris\" width=\"480\"/>, <img alt=\"Visite virtuelle ESIEE Paris\" height=\"122\" src=\"https://www.esiee.fr/sites/default/files/styles/promotion_mobile/public/thumbnails/image/m2_banniere_visite-virtuelle.jpg?itok=hKyhcg_f\" title=\"Visite virtuelle ESIEE Paris\" width=\"480\"/>, <img alt=\"Visite virtuelle ESIEE Paris\" height=\"122\" src=\"https://www.esiee.fr/sites/default/files/styles/promotion_mobile/public/thumbnails/image/m3_banniere_visite-virtuelle.jpg?itok=DwiT_2v6\" title=\"Visite virtuelle ESIEE Paris\" width=\"480\"/>, <img alt=\"Visite virtuelle ESIEE Paris\" height=\"122\" src=\"https://www.esiee.fr/sites/default/files/styles/promotion_mobile/public/thumbnails/image/m4_banniere_visite-virtuelle.jpg?itok=0Rgz5A1I\" title=\"Visite virtuelle ESIEE Paris\" width=\"480\"/>, <img alt=\"m1 bannière renault parrain\" height=\"122\" src=\"https://www.esiee.fr/sites/default/files/styles/promotion_mobile/public/thumbnails/image/m1-renault.jpg?itok=2rE48Fbk\" title=\"m1 bannière renault parrain\" width=\"480\"/>, <img alt=\"m2 bannière renault parrain\" height=\"122\" src=\"https://www.esiee.fr/sites/default/files/styles/promotion_mobile/public/thumbnails/image/m2-renault.jpg?itok=FbOwfxOR\" title=\"m2 bannière renault parrain\" width=\"480\"/>, <img alt=\"Illustration Génie industriel\" height=\"125\" src=\"https://www.esiee.fr/sites/default/files/styles/skill/public/thumbnails/image/illustration-genie-industriel.jpg?itok=itTCYQO5\" title=\"Illustration Génie industriel\" width=\"207\"/>, <img alt=\"Illustration Filière Energie - Eolienne et Panneaux solaires\" height=\"125\" src=\"https://www.esiee.fr/sites/default/files/styles/skill/public/ill-fil-energies.jpg?itok=rl0sINUe\" title=\"Illustration Filière Energie - Eolienne et Panneaux solaires\" width=\"207\"/>, <img alt=\"Réalité virtuelle ESIEE Paris\" height=\"125\" src=\"https://www.esiee.fr/sites/default/files/styles/skill/public/informatique.jpg?itok=evVe4QL_\" title=\"Réalité virtuelle ESIEE Paris\" width=\"207\"/>, <img alt=\"Filière Systèmes électroniques\" height=\"125\" src=\"https://www.esiee.fr/sites/default/files/styles/skill/public/thumbnails/image/systemes-electroniques.jpg?itok=MNp66bp8\" title=\"Filière Systèmes électroniques\" width=\"207\"/>, <img alt=\"Illustration de la filière Systèmes embarqués par apprentissage\" height=\"125\" src=\"https://www.esiee.fr/sites/default/files/styles/skill/public/thumbnails/image/illustration-filiere-systemes-embarques-apprentissage.jpg?itok=Hzu3OFAM\" title=\"Illustration de la filière Systèmes embarqués par apprentissage\" width=\"207\"/>, <img alt=\"Cybersécurité des Systèmes d'information\" height=\"125\" src=\"https://www.esiee.fr/sites/default/files/styles/skill/public/thumbnails/image/illustration-cybersecurite_0.jpg?itok=vGyYPpHy\" title=\"Formation - Cybersécurité des Systèmes d'information\" width=\"207\"/>, <img alt=\"Illustration filière Réseaux et sécurité en apprentissage\" height=\"125\" src=\"https://www.esiee.fr/sites/default/files/styles/skill/public/thumbnails/image/illustration-filiere-reseaux-securite-apprentissage.jpg?itok=LvMebxMG\" title=\"Illustration filière Réseaux et sécurité en apprentissage\" width=\"207\"/>, <img alt=\"Artificial intelligence and cybersecurity\" height=\"125\" src=\"https://www.esiee.fr/sites/default/files/styles/skill/public/thumbnails/image/illustration-filiere-artificial-intelligence-cybersecurite.jpg?itok=iDjgUoDI\" title=\"Artificial intelligence and cybersecurity\" width=\"207\"/>, <img alt=\"Filière informatique ESIEE Paris\" height=\"125\" src=\"https://www.esiee.fr/sites/default/files/styles/skill/public/thumbnails/image/informatique.jpg?itok=GAlo4ZxJ\" title=\"Filière informatique ESIEE Paris\" width=\"207\"/>, <img alt=\"Illustration Systèmes embarqués - Atelier robotique\" height=\"125\" src=\"https://www.esiee.fr/sites/default/files/styles/skill/public/thumbnails/image/illustration-systemes-embarques.jpg?itok=w9JmR8fg\" title=\"Illustration Systèmes embarqués - Atelier robotique\" width=\"207\"/>, <img alt=\"illustration-data-reseaux.jpg\" height=\"125\" src=\"https://www.esiee.fr/sites/default/files/styles/skill/public/illustration-data-reseaux.jpg?itok=6gaT9afn\" title=\"Data et réseaux\" width=\"207\"/>, <img alt=\"Illustration Filière Biotechnologies et e-sante - Microscope\" height=\"125\" src=\"https://www.esiee.fr/sites/default/files/styles/skill/public/ill-fil-bio-11118cuwimages_cciparisidf.jpg?itok=pGETF_w_\" title=\"Illustration Filière Biotechnologies et e-sante - Microscope\" width=\"207\"/>, <img alt=\"Membre fondateur Université Gustave Eiffel\" src=\"/sites/default/files/logo_membre_fondateur_univ_gustave_eiffel.png\" title=\"Membre fondateur Université Gustave Eiffel\"/>, <img alt=\"logo-cci-paris.png\" src=\"https://www.esiee.fr/sites/default/files/logo-cci-paris.png\" title=\"logo-cci-paris.png\"/>]\n",
      "[<link href=\"https://www.esiee.fr/sites/all/themes/custom/esiee_theme/favicon.ico\" rel=\"shortcut icon\" type=\"image/vnd.microsoft.icon\"/>, <link href=\"https://www.esiee.fr/sites/default/files/css/css_xE-rWrJf-fncB6ztZfd2huxqgxu4WO-qwma6Xer30m4.css\" media=\"all\" rel=\"stylesheet\" type=\"text/css\"/>, <link href=\"https://www.esiee.fr/sites/default/files/css/css_0nehMyndYv683LPew3BuGYArd7h9_M6uCOHIYpQyNdo.css\" media=\"all\" rel=\"stylesheet\" type=\"text/css\"/>, <link href=\"https://www.esiee.fr/sites/default/files/css/css_QgumInWdopRq7VIyjTHEyng4fs7n4IIlY3Oix55C0YY.css\" media=\"all\" rel=\"stylesheet\" type=\"text/css\"/>, <link href=\"https://www.esiee.fr/sites/default/files/css/css_aeHhd8F_AXd1sWxjKKVdJMQSZgPD5H4l4LV9jWgLCFM.css\" media=\"all\" rel=\"stylesheet\" type=\"text/css\"/>, <link href=\"https://www.esiee.fr/sites/default/files/css/css_N2m8XERalJCC_CzmYWb1LY7y1R6M2JJcg9uQKP-dzf8.css\" media=\"print\" rel=\"stylesheet\" type=\"text/css\"/>]\n",
      " ESIEE Paris, l’école de l’innovation technologique | Grande école d’ingénieurs | ESIEE Paris Les outils ESIEE Paris Webmail ESIEE Paris Emploi du temps général Emploi du temps individuel Extranet iCampus Microsoft DreamSpark menu\n",
      "Formations RETOUR menu\n",
      "Formations ESIEE ParisIngénieur Ingénieur\n",
      "RETOUR Formations\n",
      "Ingénieur ESIEE ParisPremier cycleLe cycle ingénieur Le cycle ingénieur\n",
      "RETOUR Ingénieur\n",
      "Le cycle ingénieur ESIEE ParisEnseignements de 1ère annéeEnseignements de 2e et 3e annéeProfils métiersFilières Filières\n",
      "RETOUR Ingénieur\n",
      "9 filières, 1 diplômeInformatiqueCybersécuritéDatascience et intelligence artificielleArtificial Intelligence and CybersecuritySystèmes embarquésSystèmes électroniques intelligentsGénie industrielBiotechnologies et e-santéEnergieEmplois et salairesFrais de scolarité ingénieur et aides financièresStagesAdmissionsContactIngénieur par apprentissage Ingénieur par apprentissage\n",
      "RETOUR Formations\n",
      "Devenir ingénieur par l'apprentissageRéseaux et sécurité - architecture et internet des objets Réseaux et sécurité - architecture et internet des objets\n",
      "RETOUR Ingénieur par apprentissage\n",
      "Réseaux et sécurité - architecture et internet des objetsProgramme des enseignementsSystèmes embarqués - transports et objets intelligents Systèmes embarqués - transports et objets intelligents\n",
      "RETOUR Ingénieur par apprentissage\n",
      "Systèmes embarqués - transports et objets intelligentsProgramme des enseignementsInformatique et applications - ingénierie 3D et technologie des médias Informatique et applications - ingénierie 3D et technologie des médias\n",
      "RETOUR Ingénieur par apprentissage\n",
      "Informatique et applications - ingénierie graphique et technologies 3DProgramme des enseignementsGénie industriel - Supply chain et numérique Génie industriel - Supply chain et numérique\n",
      "RETOUR Ingénieur par apprentissage\n",
      "Génie industriel - Supply chain et numériqueProgramme des enseignementsEnergies - Ingénierie de la transition énergétiqueApprentissage : mode d'emploiAdmissionsContactMasters internationaux Masters internationaux\n",
      "RETOUR Formations\n",
      "International programmesM.Sc. Management of Technology - Information SystemsMaster - Artificial Intelligence and CybersecurityM.Sc. Connected Objects, Devices and SystemsContactMastères spécialisés Mastères spécialisés\n",
      "RETOUR Formations\n",
      "Innovation technologique et management de projetsEspace étudiants RETOUR menu\n",
      "La vie étudianteL'associatif L'associatif\n",
      "RETOUR Espace étudiants\n",
      "Bureau des élèvesJunior ESIEEClubs et associationsLogementsCampus DescartesRelais handicapEquipements Equipements\n",
      "RETOUR Espace étudiants\n",
      "Le centre de languesLaboratoiresOrdinateurs portablesSportBibliothèque Bibliothèque\n",
      "RETOUR Espace étudiants\n",
      "Bibliothèque ESIEE ParisBibliothèque 4.0 : TI-Innovation GatewayLivres et revuesRessources électroniques Ressources électroniques\n",
      "RETOUR Bibliothèque\n",
      "Ressources électroniquesSciences et techniquesInformations sur les entreprisesPresseVidéothèqueFinancer vos étudesL'école RETOUR menu\n",
      "Qui sommes nous ?GouvernanceConseil ScientifiqueLes départements d'enseignements et de recherche Les départements d'enseignements et de recherche\n",
      "RETOUR L'école\n",
      "4 départementsInformatiqueIngénierie des systèmesSanté, énergie, environnementManagement de la technologie et languesCorps enseignant Corps enseignant\n",
      "RETOUR L'école\n",
      "Enseigner à ESIEE ParisLes enseignants-chercheursCV du corps professoralLes salles blanches Les salles blanches\n",
      "RETOUR L'école\n",
      "Les salles blanchesEquipements et procédés Equipements et procédés\n",
      "RETOUR Les salles blanches\n",
      "Équipements et ProcédésPhotolithographieTraitements thermiquesDépôts de couches mincesElectrodépositionGravures plasmaGravure humide et nettoyageScellement de substratsMétrologiePlate-forme SEM/FIBPackagingRecherche et collaborationsEquipePlateforme de recherche collaborative - FEDERContactAnnuaireLe Consortium ESIEE ConnectESIEE ConnectWebserie Yann LeCun et ESIEE ParisVisite virtuelle ESIEE ParisLa recherche RETOUR menu\n",
      "Accueil RechercheLa recherche à ESIEE Paris La recherche à ESIEE Paris\n",
      "RETOUR La recherche\n",
      "La recherche à ESIEE ParisPartenariats académiquesPartenariats entrepriseGrands domaines Grands domaines\n",
      "RETOUR La recherche\n",
      "3 grands domainesVille durableSantéSTIC et sociétéThèmes de recherche Thèmes de recherche\n",
      "RETOUR La recherche\n",
      "Informatique, image, signal Informatique, image, signal\n",
      "RETOUR Thèmes de recherche\n",
      "Informatique, image, signalArchitecture et parallélisme pour l'imagerie et la réalité virtuelleGéométrie discrète, géométrie algorithmique Morphologie mathématique et traitement d'images Optimisation, modélisation et apprentissage Traitement du signalCapteurs, santé, énergie, environnement Capteurs, santé, énergie, environnement\n",
      "RETOUR Thèmes de recherche\n",
      "Capteurs, santé, énergie, environnementMicrosystèmes pour l'analyse de l'environnement et la ville durableTechnologies pour la santéMicro-dispositifs et matériaux nanostructurées pour la récupération d'énergieSystèmes énergétiques pour la ville durableElectronique, communication Electronique, communication\n",
      "RETOUR Thèmes de recherche\n",
      "Electronique, communicationArchitectures et algorithmes pour les communications radios et la localisationComposants et circuits pour les systèmes de communications radios et optiquesElectronique associée aux micro-systèmes, instrumentation et systèmes de mesuresSystèmes embarqués, réseaux, manufacturing Systèmes embarqués, réseaux, manufacturing\n",
      "RETOUR Thèmes de recherche\n",
      "Systèmes embarqués, réseaux, manufacturingSystèmes temps réel : ordonnancement temps réel, optimisation de l'énergie, méthodologie et outils de conceptionOptimisation inter-couches des réseauxVers des modèles décisionnels dynamiques pour les systèmes manufacturiersManagement de l'innovation Management de l'innovation\n",
      "RETOUR Thèmes de recherche\n",
      "Management de l'innovationInnovations de rupture et marchés de la connaissanceManagement de projets innovantsEntrepreneuriat et financement de l'innovationPerspectives de la mondialisation et changements institutionnelsPlateformes et équipementsÉquipe de rechercheFormations par la rechercheFormalités d'accueilPublications des 12 derniers moisPublications 2017-2018Publications avant 2016ContactEntreprises RETOUR menu\n",
      "L'entreprise partenaire L'entreprise partenaire\n",
      "RETOUR Entreprises\n",
      "L'entreprise partenaireElaborez une chaire d'enseignement et de rechercheDevenez parrain de promotionDéposez une offre d'emploi, de stage et d'apprentissageContactez-nousRecrutez nos étudiants Recrutez nos étudiants\n",
      "RETOUR Entreprises\n",
      "Accueillez un stagiaireRecrutez un apprentiParticipez aux événements école-entreprisesConsultez l'enquête emploiContactez les alumniDéposez une offre d'emploi, de stage et d'apprentissageContactez-nousFormez vos collaborateursDéveloppez vos projets technologiques Développez vos projets technologiques\n",
      "RETOUR Entreprises\n",
      "Utilisez nos plateformes technologiquesCollaborez avec la R&D de ESIEE ParisContactez-nousSoutenez nos projets Soutenez nos projets\n",
      "RETOUR Entreprises\n",
      "Versez votre taxe d'apprentissageDevenez mécèneInvestissez dans l'équipement pédagogiqueSoutenez la rechercheContactez-nousLouez nos espacesDéposez une offre d'emploi, de stage et d'apprentissageUne question ? Contactez-nousInternational RETOUR menu\n",
      "Une large ouverture à l'internationalPartenaires académiquesEtudier à l'étrangerErasmus +Etudiants en échangeProgrammes internationauxLes diplômés à l'internationalContact Campus à l'étranger Ingénieur\n",
      "Découvrir la formationFilières et métiersEmplois et salairesAdmissions & inscriptions\n",
      " Ingénieur par apprentissage\n",
      "Découvrir la formationEmplois et salairesApprentissage : mode d'emploiAdmissions & inscriptions\n",
      " Mastère spécialisé\n",
      "Découvrir la formation\n",
      " Programmes internationaux\n",
      "Découvrir la formationAdmissions & inscriptions\n",
      " Formations\n",
      "Ingénieur\n",
      "Ingénieur par apprentissage\n",
      "Mastère spécialisé\n",
      "Programmes internationaux Formations Ingénieur Ingénieur par apprentissage Mastère spécialisé Programmes internationaux Actualités Lire plus d'actualités 30.10.2020\n",
      "Actualités Dernières informations Covid-19 Cette page a pour objectif de vous informer en temps réel des mesures prises par l’école dans le cadre de la situation exceptionnelle dûe à l'épidémie du Coronavirus. 03.11.2020\n",
      "Concours Des étudiants ESIEE Paris remportent le 1er prix du concours international iCAN Bravo à Kathyna, Yasmine, Davina, et Gabin qui remportent le premier prix du Concours international “iCan 2020”. 27.10.2020\n",
      "Evènements Forum Descartes 2020 : une édition 100% numérique et interactive Le Forum Descartes est de retour du jeudi 19 au vendredi 27 novembre 2020. 19.10.2020\n",
      "Actualités ESIEE Paris s'associe à l'hommage national à Samuel Paty ESIEE Paris s'associe à l'hommage national à Samuel Paty 08.10.2020\n",
      "Challenge La DGSE et ESIEE Paris organisent le challenge Cybersécurité Brigitte Friang Du 24 octobre au 11 novembre 2020, la DGSE et ESIEE Paris organisent le challenge Cybersécurité Brigitte Friang. 16.09.2020\n",
      "Classement L’Université Gustave Eiffel entre dans le classement de Shanghai Dès l’année de sa création, l’Université fait son entrée dans le renommé classement de Shanghai 2020. 25.09.2020\n",
      "Actualités ESIEE Paris, partenaire des trophées des femmes de l’industrie 2020 ESIEE Paris remet le trophée de la femme de l'industrie dans la catégorie \"début prometteur\". 11.09.2020\n",
      "Challenge Olympiades Internationales de Mathématiques à ESIEE Paris ESIEE Paris, centre d’examen français des Olympiades Internationales de Maths - OMI. 17.01.2020\n",
      "Actualités ESIEE Paris 6e école d'ingénieurs - Classement HappyAtSchool® 2020 Ce tout nouveau classement, exclusivement basé sur les avis des élèves, évalue la qualité de leur expérience étudiante. 21.02.2020\n",
      "Classement L’Etudiant 2020 : ESIEE Paris, 1re école d’ingénieurs post-bac d’Ile-de-France intègre le groupe A L'étudiant dévoile son classement 2020 : ESIEE Paris occupe le 27e rang sur les 167 écoles classées. 18.06.2019\n",
      "Classement Classement international U-Multirank 2019 : ESIEE Paris dans le top 25 des meilleures universités mondiales ESIEE Paris est classée 8e des meilleurs établissements français en « sciences et technologies » sur 236 universités mondiales classées. 05.09.2019\n",
      "Actualités Le Groupe Renault parrain des prochaines promotions ESIEE Paris Le Groupe Renault sera le parrain des promotions 2020, 2021 et 2022 de ESIEE Paris. La recherche Découvrez les principaux thèmes de recherche ESIEE Paris, les actualités, les partenariats, les publications, les équipements… En savoir plus Entreprises Retrouvez toutes les informations relatives à la taxe d’apprentissage, à l’accompagnement des entreprises et des étudiants, les partenaires, les parrains de promotions… En savoir plus Domaines de compétences Génie industriel Ingénieur Lire la suite Energie Ingénieur Lire la suite Informatique 3D Ingénieur par apprentissage Lire la suite Systèmes électroniques Ingénieur Lire la suite Systèmes embarqués Ingénieur par apprentissage Lire la suite Cybersécurité Ingénieur Lire la suite Réseaux et sécurité Ingénieur par apprentissage Lire la suite Artificial intelligence and cybersecurity Ingénieur Lire la suite Informatique Ingénieur Lire la suite Systèmes embarqués Ingénieur Lire la suite Datascience et intelligence artificielle Ingénieur Lire la suite Biotechnologies et e-santé Ingénieur Lire la suite ESIEE Paris\n",
      "2 boulevard Blaise PascalCité DescartesBP 9993162 Noisy-le-Grand CedexTel : 01 45 92 65 00  Plan d'accès\n",
      "Presse\n",
      "Nous rencontrer\n",
      "Le Jour des Projets\n",
      "Brochures\n",
      "Vidéothèque\n",
      "Location d'espaces\n",
      "Enseigner à ESIEE\n",
      "Réseaux sociaux\n",
      "Visite virtuelle\n",
      "Alumni\n",
      "Mentions Légales\n",
      "Marchés publics\n",
      "Plan du site Contacter ESIEE Paris \n"
     ]
    }
   ],
   "source": [
    "import random\n",
    "\n",
    "class HTTPRequestsSoup:\n",
    "    def __init__(self, url):\n",
    "        self.url = url\n",
    "        self.headers = [{'User-Agent': 'Mozilla/5.0 (Macintosh; Intel Mac OS X 10_10_1) AppleWebKit/537.36 (KHTML, like Gecko) Chrome/39.0.2171.95 Safari/537.36'}]\n",
    "        self.timeout = 10\n",
    "        \n",
    "    def userAgentList(self, liste):\n",
    "        self.headers = liste\n",
    "        \n",
    "    def retry(self):\n",
    "        r = random.randint(0, len(self.headers) - 1)\n",
    "        try:\n",
    "            self.response = requests.get(self.url, headers=self.headers[r], timeout = self.timeout)\n",
    "            #print(self.response.content[0:1000])\n",
    "        except:\n",
    "            retry()\n",
    "            \n",
    "    def soupRecup(self):\n",
    "        self.soup = BeautifulSoup(self.response.text, \"lxml\")\n",
    "        \n",
    "url = \"http://www.esiee.fr/\"\n",
    "\n",
    "liste = [{'User-Agent': 'Mozilla/5.0 (Windows NT 6.1) AppleWebKit/537.36 (KHTML, like Gecko) Chrome/41.0.2228.0 Safari/537.36'},\n",
    "{'User-Agent': 'Mozilla/5.0 (Macintosh; Intel Mac OS X 10_10_1) AppleWebKit/537.36 (KHTML, like Gecko) Chrome/41.0.2227.1 Safari/537.36'},\n",
    "{'User-Agent': 'Mozilla/5.0 (X11; Linux x86_64) AppleWebKit/537.36 (KHTML, like Gecko) Chrome/41.0.2227.0 Safari/537.36'},\n",
    "{'User-Agent': 'Mozilla/5.0 (Windows NT 6.1; WOW64) AppleWebKit/537.36 (KHTML, like Gecko) Chrome/41.0.2227.0 Safari/537.36'},\n",
    "{'User-Agent': 'Mozilla/5.0 (Windows NT 6.3; WOW64) AppleWebKit/537.36 (KHTML, like Gecko) Chrome/41.0.2226.0 Safari/537.36'}]\n",
    "\n",
    "request = HTTPRequestsSoup(url)\n",
    "request.userAgentList(liste)\n",
    "request.retry()\n",
    "request.soupRecup()\n",
    "#print(request.soup)\n",
    "\n",
    "#m = re.search('https?://([A-Za-z_0-9.-]+).*', url)\n",
    "tab = request.soup.find_all(\"h2\")\n",
    "texttab = []\n",
    "for elt in tab :\n",
    "    texttab.append(elt.text)\n",
    "\n",
    "print(urlDomain(url))#m = re.search('https?://([A-Za-z_0-9.-]+).*', url)\n",
    "print(request.soup.find(\"title\").text)\n",
    "print(texttab)\n",
    "print(request.soup.find_all(\"img\")) #in soup.find_all(\"img\") --> return elt['src'] if elt.get('src')\n",
    "print(request.soup.find_all(\"link\"))\n",
    "print(noSpace(request.soup.text))\n",
    "\n",
    "\n",
    "            \n",
    "    "
   ]
  },
  {
   "cell_type": "markdown",
   "metadata": {},
   "source": [
    "# Exploitation des appels d'API\n"
   ]
  },
  {
   "cell_type": "markdown",
   "metadata": {},
   "source": [
    "\n",
    "Losque le front du site récupère des données sur une API géré par le back, un appel d'API est réalisé. Cet appel est recensé dans les appels réseaux. Il est alors possible de re-jouer cet appel pour récupérer à nouveau les données. Il est très facile de récupérer ces appels dans l'onglet Network de la console développeur de Chrome ou FireFox. La console vous permet de copier le code CURL pour effectuée et vous pouvez ensuite la transformer en code Python depuis le site https://curl.trillworks.com/.\n",
    "\n",
    "Souvent les APIs sont bloquées avec certain paramètres. L'API verifie que dans les headers de la requêtes HTTP ces paramètres sont présents : * un token généré à la volée avec des protocole OAuth2 (ou moins développés). * un referer provenant du site web (la source de la requête), très facile à falsifier.\n",
    "\n"
   ]
  },
  {
   "cell_type": "markdown",
   "metadata": {},
   "source": [
    "## Exercice \n",
    "### Exercice 4\n",
    "\n",
    "- Utiliser les informations développées plus haut pour récupérer les premiers résultats d'une recherche d'une requête\n",
    "sur Qwant. \n",
    "\n",
    "Tips : \n",
    "\n",
    "- Aller sur https://www.qwant.com/\n",
    "- Ouvrir les outils de développements de Chrome ou Firefox\n",
    "- Onglet Network\n",
    "- Fouiller dans les requêtes"
   ]
  },
  {
   "cell_type": "markdown",
   "metadata": {},
   "source": [
    "# Exercice Final  "
   ]
  },
  {
   "cell_type": "markdown",
   "metadata": {},
   "source": [
    "Exercice Final\n",
    "Utilisez tout ce que vous avez appris pour récupérer des articles de News avec une catégorie. Il est souvent intéressant de partir des flux RSS pour commencer :\n",
    "\n",
    "Les données doivent comprendre :\n",
    "- Le texte important propre\n",
    "- L'url\n",
    "- Le domaine\n",
    "- la catégorie\n",
    "- Le titre de l'article\n",
    "- Le titre de la page\n",
    "- (Facultatif) : les images\n",
    "\n",
    "Tips : \n",
    "\n",
    "- Taper le nom de votre média favoris + RSS (par exemple : https://www.lemonde.fr/rss/)\n",
    "- Aller dans le DOM de la page \n",
    "- Trouver les catégories et les liens vers les articles"
   ]
  },
  {
   "cell_type": "code",
   "execution_count": null,
   "metadata": {},
   "outputs": [],
   "source": []
  }
 ],
 "metadata": {
  "kernelspec": {
   "display_name": "Python 3",
   "language": "python",
   "name": "python3"
  },
  "language_info": {
   "codemirror_mode": {
    "name": "ipython",
    "version": 3
   },
   "file_extension": ".py",
   "mimetype": "text/x-python",
   "name": "python",
   "nbconvert_exporter": "python",
   "pygments_lexer": "ipython3",
   "version": "3.8.3"
  }
 },
 "nbformat": 4,
 "nbformat_minor": 2
}
